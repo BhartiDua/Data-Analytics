{
  "nbformat": 4,
  "nbformat_minor": 0,
  "metadata": {
    "colab": {
      "name": "Car Insurance Prediction.ipynb",
      "provenance": [],
      "collapsed_sections": []
    },
    "kernelspec": {
      "name": "python3",
      "display_name": "Python 3"
    },
    "language_info": {
      "name": "python"
    }
  },
  "cells": [
    {
      "cell_type": "markdown",
      "metadata": {
        "id": "IRkPH2MOjLur"
      },
      "source": [
        "# Importing Libraries"
      ]
    },
    {
      "cell_type": "code",
      "metadata": {
        "id": "5IMFm8oExVCZ"
      },
      "source": [
        "# Data analysis and data manipulating tool\n",
        "import numpy as np    \n",
        "\n",
        "# Package for linear algebra and multidimensional arrays\n",
        "import pandas as pd   \n",
        "\n",
        "# Visualization libraries\n",
        "import matplotlib.pyplot as plt\n",
        "import seaborn as sns"
      ],
      "execution_count": 1,
      "outputs": []
    },
    {
      "cell_type": "code",
      "metadata": {
        "colab": {
          "resources": {
            "http://localhost:8080/nbextensions/google.colab/files.js": {
              "data": "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",
              "ok": true,
              "headers": [
                [
                  "content-type",
                  "application/javascript"
                ]
              ],
              "status": 200,
              "status_text": ""
            }
          },
          "base_uri": "https://localhost:8080/",
          "height": 107
        },
        "id": "CAjbUdWd9DaX",
        "outputId": "ff96a390-9fe9-4cfc-f7fd-4058ecc8480a"
      },
      "source": [
        "# Upload files from local system to google colab\n",
        "from google.colab import files\n",
        "uploaded = files.upload()"
      ],
      "execution_count": 2,
      "outputs": [
        {
          "output_type": "display_data",
          "data": {
            "text/html": [
              "\n",
              "     <input type=\"file\" id=\"files-f40ff570-f219-4a2b-8b8a-a6e79373f6a3\" name=\"files[]\" multiple disabled\n",
              "        style=\"border:none\" />\n",
              "     <output id=\"result-f40ff570-f219-4a2b-8b8a-a6e79373f6a3\">\n",
              "      Upload widget is only available when the cell has been executed in the\n",
              "      current browser session. Please rerun this cell to enable.\n",
              "      </output>\n",
              "      <script src=\"/nbextensions/google.colab/files.js\"></script> "
            ],
            "text/plain": [
              "<IPython.core.display.HTML object>"
            ]
          },
          "metadata": {
            "tags": []
          }
        },
        {
          "output_type": "stream",
          "text": [
            "Saving Train_data.csv to Train_data.csv\n",
            "Saving Test_data.csv to Test_data.csv\n"
          ],
          "name": "stdout"
        }
      ]
    },
    {
      "cell_type": "markdown",
      "metadata": {
        "id": "-Cxy_1M1jVx-"
      },
      "source": [
        "# Load the Dataset"
      ]
    },
    {
      "cell_type": "code",
      "metadata": {
        "colab": {
          "base_uri": "https://localhost:8080/",
          "height": 235
        },
        "id": "oxZ9yEdm7WkE",
        "outputId": "b5331a9c-1ba4-4521-cf60-2a56d2006af4"
      },
      "source": [
        "# Import training data as pandas dataframe and reading it\n",
        "train = pd.read_csv(\"Train_data.csv\")\n",
        "\n",
        "# Check for no. of rows and columns\n",
        "print(\"Dimensions of Array:\" , train.shape)\n",
        "\n",
        "#  print first five rows in the dataframe\n",
        "train.head()"
      ],
      "execution_count": 55,
      "outputs": [
        {
          "output_type": "stream",
          "text": [
            "Dimensions of Array: (3102, 18)\n"
          ],
          "name": "stdout"
        },
        {
          "output_type": "execute_result",
          "data": {
            "text/html": [
              "<div>\n",
              "<style scoped>\n",
              "    .dataframe tbody tr th:only-of-type {\n",
              "        vertical-align: middle;\n",
              "    }\n",
              "\n",
              "    .dataframe tbody tr th {\n",
              "        vertical-align: top;\n",
              "    }\n",
              "\n",
              "    .dataframe thead th {\n",
              "        text-align: right;\n",
              "    }\n",
              "</style>\n",
              "<table border=\"1\" class=\"dataframe\">\n",
              "  <thead>\n",
              "    <tr style=\"text-align: right;\">\n",
              "      <th></th>\n",
              "      <th>age</th>\n",
              "      <th>job_type</th>\n",
              "      <th>marital_status</th>\n",
              "      <th>education_level</th>\n",
              "      <th>default_or_not</th>\n",
              "      <th>balance_amt</th>\n",
              "      <th>household_insurance</th>\n",
              "      <th>car_loan</th>\n",
              "      <th>communication</th>\n",
              "      <th>last_contact_day</th>\n",
              "      <th>last_contact_month</th>\n",
              "      <th>no_of_contacts</th>\n",
              "      <th>days_passed</th>\n",
              "      <th>prev_attempts</th>\n",
              "      <th>Outcome</th>\n",
              "      <th>call_start</th>\n",
              "      <th>call_end</th>\n",
              "      <th>car_insurance</th>\n",
              "    </tr>\n",
              "  </thead>\n",
              "  <tbody>\n",
              "    <tr>\n",
              "      <th>0</th>\n",
              "      <td>47.000000</td>\n",
              "      <td>blue-collar</td>\n",
              "      <td>married</td>\n",
              "      <td>primary</td>\n",
              "      <td>0</td>\n",
              "      <td>1112.000000</td>\n",
              "      <td>1</td>\n",
              "      <td>0</td>\n",
              "      <td>cellular</td>\n",
              "      <td>13</td>\n",
              "      <td>may</td>\n",
              "      <td>1</td>\n",
              "      <td>-1</td>\n",
              "      <td>0</td>\n",
              "      <td>NaN</td>\n",
              "      <td>10:22:20</td>\n",
              "      <td>10:24:29</td>\n",
              "      <td>0</td>\n",
              "    </tr>\n",
              "    <tr>\n",
              "      <th>1</th>\n",
              "      <td>46.031442</td>\n",
              "      <td>management</td>\n",
              "      <td>married</td>\n",
              "      <td>tertiary</td>\n",
              "      <td>0</td>\n",
              "      <td>1.312372</td>\n",
              "      <td>0</td>\n",
              "      <td>1</td>\n",
              "      <td>cellular</td>\n",
              "      <td>15</td>\n",
              "      <td>may</td>\n",
              "      <td>3</td>\n",
              "      <td>219</td>\n",
              "      <td>1</td>\n",
              "      <td>other</td>\n",
              "      <td>09:06:30</td>\n",
              "      <td>13:59:48</td>\n",
              "      <td>1</td>\n",
              "    </tr>\n",
              "    <tr>\n",
              "      <th>2</th>\n",
              "      <td>36.000000</td>\n",
              "      <td>services</td>\n",
              "      <td>single</td>\n",
              "      <td>NaN</td>\n",
              "      <td>0</td>\n",
              "      <td>281.000000</td>\n",
              "      <td>1</td>\n",
              "      <td>0</td>\n",
              "      <td>NaN</td>\n",
              "      <td>16</td>\n",
              "      <td>may</td>\n",
              "      <td>1</td>\n",
              "      <td>-1</td>\n",
              "      <td>0</td>\n",
              "      <td>NaN</td>\n",
              "      <td>13:18:41</td>\n",
              "      <td>13:27:16</td>\n",
              "      <td>1</td>\n",
              "    </tr>\n",
              "    <tr>\n",
              "      <th>3</th>\n",
              "      <td>32.000000</td>\n",
              "      <td>technician</td>\n",
              "      <td>single</td>\n",
              "      <td>secondary</td>\n",
              "      <td>0</td>\n",
              "      <td>540.000000</td>\n",
              "      <td>0</td>\n",
              "      <td>1</td>\n",
              "      <td>cellular</td>\n",
              "      <td>29</td>\n",
              "      <td>jan</td>\n",
              "      <td>1</td>\n",
              "      <td>-1</td>\n",
              "      <td>0</td>\n",
              "      <td>NaN</td>\n",
              "      <td>10:09:18</td>\n",
              "      <td>10:21:48</td>\n",
              "      <td>1</td>\n",
              "    </tr>\n",
              "    <tr>\n",
              "      <th>4</th>\n",
              "      <td>30.000000</td>\n",
              "      <td>admin.</td>\n",
              "      <td>single</td>\n",
              "      <td>secondary</td>\n",
              "      <td>0</td>\n",
              "      <td>315.000000</td>\n",
              "      <td>1</td>\n",
              "      <td>0</td>\n",
              "      <td>cellular</td>\n",
              "      <td>14</td>\n",
              "      <td>may</td>\n",
              "      <td>3</td>\n",
              "      <td>346</td>\n",
              "      <td>4</td>\n",
              "      <td>failure</td>\n",
              "      <td>12:12:30</td>\n",
              "      <td>12:27:14</td>\n",
              "      <td>1</td>\n",
              "    </tr>\n",
              "  </tbody>\n",
              "</table>\n",
              "</div>"
            ],
            "text/plain": [
              "         age     job_type marital_status  ... call_start  call_end  car_insurance\n",
              "0  47.000000  blue-collar        married  ...   10:22:20  10:24:29              0\n",
              "1  46.031442   management        married  ...   09:06:30  13:59:48              1\n",
              "2  36.000000     services         single  ...   13:18:41  13:27:16              1\n",
              "3  32.000000   technician         single  ...   10:09:18  10:21:48              1\n",
              "4  30.000000       admin.         single  ...   12:12:30  12:27:14              1\n",
              "\n",
              "[5 rows x 18 columns]"
            ]
          },
          "metadata": {
            "tags": []
          },
          "execution_count": 55
        }
      ]
    },
    {
      "cell_type": "code",
      "metadata": {
        "colab": {
          "base_uri": "https://localhost:8080/",
          "height": 235
        },
        "id": "StRb7fUHDdkE",
        "outputId": "15ef613d-056b-4560-c206-76e8e7b7dfc8"
      },
      "source": [
        "# Add a new column to the dataframe (data_file) and add constant value (train) to all rows\n",
        "train['source'] = 'train'\n",
        "\n",
        "# Check the Dimensions after adding a column\n",
        "print(train.shape)\n",
        "\n",
        "# Display first five rows in the dataframe\n",
        "train.head()"
      ],
      "execution_count": 56,
      "outputs": [
        {
          "output_type": "stream",
          "text": [
            "(3102, 19)\n"
          ],
          "name": "stdout"
        },
        {
          "output_type": "execute_result",
          "data": {
            "text/html": [
              "<div>\n",
              "<style scoped>\n",
              "    .dataframe tbody tr th:only-of-type {\n",
              "        vertical-align: middle;\n",
              "    }\n",
              "\n",
              "    .dataframe tbody tr th {\n",
              "        vertical-align: top;\n",
              "    }\n",
              "\n",
              "    .dataframe thead th {\n",
              "        text-align: right;\n",
              "    }\n",
              "</style>\n",
              "<table border=\"1\" class=\"dataframe\">\n",
              "  <thead>\n",
              "    <tr style=\"text-align: right;\">\n",
              "      <th></th>\n",
              "      <th>age</th>\n",
              "      <th>job_type</th>\n",
              "      <th>marital_status</th>\n",
              "      <th>education_level</th>\n",
              "      <th>default_or_not</th>\n",
              "      <th>balance_amt</th>\n",
              "      <th>household_insurance</th>\n",
              "      <th>car_loan</th>\n",
              "      <th>communication</th>\n",
              "      <th>last_contact_day</th>\n",
              "      <th>last_contact_month</th>\n",
              "      <th>no_of_contacts</th>\n",
              "      <th>days_passed</th>\n",
              "      <th>prev_attempts</th>\n",
              "      <th>Outcome</th>\n",
              "      <th>call_start</th>\n",
              "      <th>call_end</th>\n",
              "      <th>car_insurance</th>\n",
              "      <th>source</th>\n",
              "    </tr>\n",
              "  </thead>\n",
              "  <tbody>\n",
              "    <tr>\n",
              "      <th>0</th>\n",
              "      <td>47.000000</td>\n",
              "      <td>blue-collar</td>\n",
              "      <td>married</td>\n",
              "      <td>primary</td>\n",
              "      <td>0</td>\n",
              "      <td>1112.000000</td>\n",
              "      <td>1</td>\n",
              "      <td>0</td>\n",
              "      <td>cellular</td>\n",
              "      <td>13</td>\n",
              "      <td>may</td>\n",
              "      <td>1</td>\n",
              "      <td>-1</td>\n",
              "      <td>0</td>\n",
              "      <td>NaN</td>\n",
              "      <td>10:22:20</td>\n",
              "      <td>10:24:29</td>\n",
              "      <td>0</td>\n",
              "      <td>train</td>\n",
              "    </tr>\n",
              "    <tr>\n",
              "      <th>1</th>\n",
              "      <td>46.031442</td>\n",
              "      <td>management</td>\n",
              "      <td>married</td>\n",
              "      <td>tertiary</td>\n",
              "      <td>0</td>\n",
              "      <td>1.312372</td>\n",
              "      <td>0</td>\n",
              "      <td>1</td>\n",
              "      <td>cellular</td>\n",
              "      <td>15</td>\n",
              "      <td>may</td>\n",
              "      <td>3</td>\n",
              "      <td>219</td>\n",
              "      <td>1</td>\n",
              "      <td>other</td>\n",
              "      <td>09:06:30</td>\n",
              "      <td>13:59:48</td>\n",
              "      <td>1</td>\n",
              "      <td>train</td>\n",
              "    </tr>\n",
              "    <tr>\n",
              "      <th>2</th>\n",
              "      <td>36.000000</td>\n",
              "      <td>services</td>\n",
              "      <td>single</td>\n",
              "      <td>NaN</td>\n",
              "      <td>0</td>\n",
              "      <td>281.000000</td>\n",
              "      <td>1</td>\n",
              "      <td>0</td>\n",
              "      <td>NaN</td>\n",
              "      <td>16</td>\n",
              "      <td>may</td>\n",
              "      <td>1</td>\n",
              "      <td>-1</td>\n",
              "      <td>0</td>\n",
              "      <td>NaN</td>\n",
              "      <td>13:18:41</td>\n",
              "      <td>13:27:16</td>\n",
              "      <td>1</td>\n",
              "      <td>train</td>\n",
              "    </tr>\n",
              "    <tr>\n",
              "      <th>3</th>\n",
              "      <td>32.000000</td>\n",
              "      <td>technician</td>\n",
              "      <td>single</td>\n",
              "      <td>secondary</td>\n",
              "      <td>0</td>\n",
              "      <td>540.000000</td>\n",
              "      <td>0</td>\n",
              "      <td>1</td>\n",
              "      <td>cellular</td>\n",
              "      <td>29</td>\n",
              "      <td>jan</td>\n",
              "      <td>1</td>\n",
              "      <td>-1</td>\n",
              "      <td>0</td>\n",
              "      <td>NaN</td>\n",
              "      <td>10:09:18</td>\n",
              "      <td>10:21:48</td>\n",
              "      <td>1</td>\n",
              "      <td>train</td>\n",
              "    </tr>\n",
              "    <tr>\n",
              "      <th>4</th>\n",
              "      <td>30.000000</td>\n",
              "      <td>admin.</td>\n",
              "      <td>single</td>\n",
              "      <td>secondary</td>\n",
              "      <td>0</td>\n",
              "      <td>315.000000</td>\n",
              "      <td>1</td>\n",
              "      <td>0</td>\n",
              "      <td>cellular</td>\n",
              "      <td>14</td>\n",
              "      <td>may</td>\n",
              "      <td>3</td>\n",
              "      <td>346</td>\n",
              "      <td>4</td>\n",
              "      <td>failure</td>\n",
              "      <td>12:12:30</td>\n",
              "      <td>12:27:14</td>\n",
              "      <td>1</td>\n",
              "      <td>train</td>\n",
              "    </tr>\n",
              "  </tbody>\n",
              "</table>\n",
              "</div>"
            ],
            "text/plain": [
              "         age     job_type marital_status  ...  call_end  car_insurance  source\n",
              "0  47.000000  blue-collar        married  ...  10:24:29              0   train\n",
              "1  46.031442   management        married  ...  13:59:48              1   train\n",
              "2  36.000000     services         single  ...  13:27:16              1   train\n",
              "3  32.000000   technician         single  ...  10:21:48              1   train\n",
              "4  30.000000       admin.         single  ...  12:27:14              1   train\n",
              "\n",
              "[5 rows x 19 columns]"
            ]
          },
          "metadata": {
            "tags": []
          },
          "execution_count": 56
        }
      ]
    },
    {
      "cell_type": "code",
      "metadata": {
        "colab": {
          "base_uri": "https://localhost:8080/",
          "height": 235
        },
        "id": "zkT6BQpXEjI7",
        "outputId": "88b22094-687a-4998-99b6-21f2ab8f2414"
      },
      "source": [
        "# Import test data as pandas dataframe and reading it\n",
        "test = pd.read_csv(\"Test_data.csv\")\n",
        "\n",
        "# Check for no. of rows and columns\n",
        "print(\"Dimensions of Array:\" , test.shape)\n",
        "\n",
        "# Print first 5 rows of test_data\n",
        "test.head()"
      ],
      "execution_count": 57,
      "outputs": [
        {
          "output_type": "stream",
          "text": [
            "Dimensions of Array: (935, 17)\n"
          ],
          "name": "stdout"
        },
        {
          "output_type": "execute_result",
          "data": {
            "text/html": [
              "<div>\n",
              "<style scoped>\n",
              "    .dataframe tbody tr th:only-of-type {\n",
              "        vertical-align: middle;\n",
              "    }\n",
              "\n",
              "    .dataframe tbody tr th {\n",
              "        vertical-align: top;\n",
              "    }\n",
              "\n",
              "    .dataframe thead th {\n",
              "        text-align: right;\n",
              "    }\n",
              "</style>\n",
              "<table border=\"1\" class=\"dataframe\">\n",
              "  <thead>\n",
              "    <tr style=\"text-align: right;\">\n",
              "      <th></th>\n",
              "      <th>age</th>\n",
              "      <th>job_type</th>\n",
              "      <th>marital_status</th>\n",
              "      <th>education_level</th>\n",
              "      <th>default_or_not</th>\n",
              "      <th>balance_amt</th>\n",
              "      <th>household_insurance</th>\n",
              "      <th>car_loan</th>\n",
              "      <th>communication</th>\n",
              "      <th>last_contact_day</th>\n",
              "      <th>last_contact_month</th>\n",
              "      <th>no_of_contacts</th>\n",
              "      <th>days_passed</th>\n",
              "      <th>prev_attempts</th>\n",
              "      <th>Outcome</th>\n",
              "      <th>call_start</th>\n",
              "      <th>call_end</th>\n",
              "    </tr>\n",
              "  </thead>\n",
              "  <tbody>\n",
              "    <tr>\n",
              "      <th>0</th>\n",
              "      <td>65.000000</td>\n",
              "      <td>retired</td>\n",
              "      <td>married</td>\n",
              "      <td>secondary</td>\n",
              "      <td>0</td>\n",
              "      <td>20806.0</td>\n",
              "      <td>0</td>\n",
              "      <td>0</td>\n",
              "      <td>telephone</td>\n",
              "      <td>8</td>\n",
              "      <td>apr</td>\n",
              "      <td>2</td>\n",
              "      <td>-1</td>\n",
              "      <td>0</td>\n",
              "      <td>NaN</td>\n",
              "      <td>12:22:13</td>\n",
              "      <td>12:30:56</td>\n",
              "    </tr>\n",
              "    <tr>\n",
              "      <th>1</th>\n",
              "      <td>36.000000</td>\n",
              "      <td>management</td>\n",
              "      <td>married</td>\n",
              "      <td>tertiary</td>\n",
              "      <td>0</td>\n",
              "      <td>900.0</td>\n",
              "      <td>1</td>\n",
              "      <td>0</td>\n",
              "      <td>NaN</td>\n",
              "      <td>15</td>\n",
              "      <td>may</td>\n",
              "      <td>2</td>\n",
              "      <td>-1</td>\n",
              "      <td>0</td>\n",
              "      <td>NaN</td>\n",
              "      <td>17:59:45</td>\n",
              "      <td>18:07:40</td>\n",
              "    </tr>\n",
              "    <tr>\n",
              "      <th>2</th>\n",
              "      <td>37.000000</td>\n",
              "      <td>management</td>\n",
              "      <td>married</td>\n",
              "      <td>tertiary</td>\n",
              "      <td>0</td>\n",
              "      <td>6771.0</td>\n",
              "      <td>0</td>\n",
              "      <td>0</td>\n",
              "      <td>cellular</td>\n",
              "      <td>7</td>\n",
              "      <td>sep</td>\n",
              "      <td>1</td>\n",
              "      <td>186</td>\n",
              "      <td>1</td>\n",
              "      <td>success</td>\n",
              "      <td>14:05:19</td>\n",
              "      <td>14:10:56</td>\n",
              "    </tr>\n",
              "    <tr>\n",
              "      <th>3</th>\n",
              "      <td>30.065066</td>\n",
              "      <td>management</td>\n",
              "      <td>single</td>\n",
              "      <td>tertiary</td>\n",
              "      <td>0</td>\n",
              "      <td>0.0</td>\n",
              "      <td>0</td>\n",
              "      <td>0</td>\n",
              "      <td>cellular</td>\n",
              "      <td>14</td>\n",
              "      <td>may</td>\n",
              "      <td>2</td>\n",
              "      <td>-1</td>\n",
              "      <td>0</td>\n",
              "      <td>NaN</td>\n",
              "      <td>17:33:27</td>\n",
              "      <td>09:47:54</td>\n",
              "    </tr>\n",
              "    <tr>\n",
              "      <th>4</th>\n",
              "      <td>41.000000</td>\n",
              "      <td>management</td>\n",
              "      <td>married</td>\n",
              "      <td>tertiary</td>\n",
              "      <td>0</td>\n",
              "      <td>328.0</td>\n",
              "      <td>1</td>\n",
              "      <td>0</td>\n",
              "      <td>cellular</td>\n",
              "      <td>29</td>\n",
              "      <td>jul</td>\n",
              "      <td>12</td>\n",
              "      <td>-1</td>\n",
              "      <td>0</td>\n",
              "      <td>NaN</td>\n",
              "      <td>14:40:26</td>\n",
              "      <td>14:41:31</td>\n",
              "    </tr>\n",
              "  </tbody>\n",
              "</table>\n",
              "</div>"
            ],
            "text/plain": [
              "         age    job_type marital_status  ...  Outcome  call_start  call_end\n",
              "0  65.000000     retired        married  ...      NaN    12:22:13  12:30:56\n",
              "1  36.000000  management        married  ...      NaN    17:59:45  18:07:40\n",
              "2  37.000000  management        married  ...  success    14:05:19  14:10:56\n",
              "3  30.065066  management         single  ...      NaN    17:33:27  09:47:54\n",
              "4  41.000000  management        married  ...      NaN    14:40:26  14:41:31\n",
              "\n",
              "[5 rows x 17 columns]"
            ]
          },
          "metadata": {
            "tags": []
          },
          "execution_count": 57
        }
      ]
    },
    {
      "cell_type": "markdown",
      "metadata": {
        "id": "ZV6_MqR3jdcg"
      },
      "source": [
        "# Exploratory Data Analysis (EDA)"
      ]
    },
    {
      "cell_type": "code",
      "metadata": {
        "colab": {
          "base_uri": "https://localhost:8080/",
          "height": 235
        },
        "id": "_M33U0uSHxwV",
        "outputId": "b14d747c-d824-4ca4-defc-35c5db705c87"
      },
      "source": [
        "# Add a new column to the dataframe (data_file) and add constant value (test) to all rows similar to train data\n",
        "test['source'] = 'test'\n",
        "\n",
        "# Check the Dimensions after adding a column\n",
        "print(test.shape)\n",
        "\n",
        "# Display first five rows in the dataframe\n",
        "test.head()"
      ],
      "execution_count": 58,
      "outputs": [
        {
          "output_type": "stream",
          "text": [
            "(935, 18)\n"
          ],
          "name": "stdout"
        },
        {
          "output_type": "execute_result",
          "data": {
            "text/html": [
              "<div>\n",
              "<style scoped>\n",
              "    .dataframe tbody tr th:only-of-type {\n",
              "        vertical-align: middle;\n",
              "    }\n",
              "\n",
              "    .dataframe tbody tr th {\n",
              "        vertical-align: top;\n",
              "    }\n",
              "\n",
              "    .dataframe thead th {\n",
              "        text-align: right;\n",
              "    }\n",
              "</style>\n",
              "<table border=\"1\" class=\"dataframe\">\n",
              "  <thead>\n",
              "    <tr style=\"text-align: right;\">\n",
              "      <th></th>\n",
              "      <th>age</th>\n",
              "      <th>job_type</th>\n",
              "      <th>marital_status</th>\n",
              "      <th>education_level</th>\n",
              "      <th>default_or_not</th>\n",
              "      <th>balance_amt</th>\n",
              "      <th>household_insurance</th>\n",
              "      <th>car_loan</th>\n",
              "      <th>communication</th>\n",
              "      <th>last_contact_day</th>\n",
              "      <th>last_contact_month</th>\n",
              "      <th>no_of_contacts</th>\n",
              "      <th>days_passed</th>\n",
              "      <th>prev_attempts</th>\n",
              "      <th>Outcome</th>\n",
              "      <th>call_start</th>\n",
              "      <th>call_end</th>\n",
              "      <th>source</th>\n",
              "    </tr>\n",
              "  </thead>\n",
              "  <tbody>\n",
              "    <tr>\n",
              "      <th>0</th>\n",
              "      <td>65.000000</td>\n",
              "      <td>retired</td>\n",
              "      <td>married</td>\n",
              "      <td>secondary</td>\n",
              "      <td>0</td>\n",
              "      <td>20806.0</td>\n",
              "      <td>0</td>\n",
              "      <td>0</td>\n",
              "      <td>telephone</td>\n",
              "      <td>8</td>\n",
              "      <td>apr</td>\n",
              "      <td>2</td>\n",
              "      <td>-1</td>\n",
              "      <td>0</td>\n",
              "      <td>NaN</td>\n",
              "      <td>12:22:13</td>\n",
              "      <td>12:30:56</td>\n",
              "      <td>test</td>\n",
              "    </tr>\n",
              "    <tr>\n",
              "      <th>1</th>\n",
              "      <td>36.000000</td>\n",
              "      <td>management</td>\n",
              "      <td>married</td>\n",
              "      <td>tertiary</td>\n",
              "      <td>0</td>\n",
              "      <td>900.0</td>\n",
              "      <td>1</td>\n",
              "      <td>0</td>\n",
              "      <td>NaN</td>\n",
              "      <td>15</td>\n",
              "      <td>may</td>\n",
              "      <td>2</td>\n",
              "      <td>-1</td>\n",
              "      <td>0</td>\n",
              "      <td>NaN</td>\n",
              "      <td>17:59:45</td>\n",
              "      <td>18:07:40</td>\n",
              "      <td>test</td>\n",
              "    </tr>\n",
              "    <tr>\n",
              "      <th>2</th>\n",
              "      <td>37.000000</td>\n",
              "      <td>management</td>\n",
              "      <td>married</td>\n",
              "      <td>tertiary</td>\n",
              "      <td>0</td>\n",
              "      <td>6771.0</td>\n",
              "      <td>0</td>\n",
              "      <td>0</td>\n",
              "      <td>cellular</td>\n",
              "      <td>7</td>\n",
              "      <td>sep</td>\n",
              "      <td>1</td>\n",
              "      <td>186</td>\n",
              "      <td>1</td>\n",
              "      <td>success</td>\n",
              "      <td>14:05:19</td>\n",
              "      <td>14:10:56</td>\n",
              "      <td>test</td>\n",
              "    </tr>\n",
              "    <tr>\n",
              "      <th>3</th>\n",
              "      <td>30.065066</td>\n",
              "      <td>management</td>\n",
              "      <td>single</td>\n",
              "      <td>tertiary</td>\n",
              "      <td>0</td>\n",
              "      <td>0.0</td>\n",
              "      <td>0</td>\n",
              "      <td>0</td>\n",
              "      <td>cellular</td>\n",
              "      <td>14</td>\n",
              "      <td>may</td>\n",
              "      <td>2</td>\n",
              "      <td>-1</td>\n",
              "      <td>0</td>\n",
              "      <td>NaN</td>\n",
              "      <td>17:33:27</td>\n",
              "      <td>09:47:54</td>\n",
              "      <td>test</td>\n",
              "    </tr>\n",
              "    <tr>\n",
              "      <th>4</th>\n",
              "      <td>41.000000</td>\n",
              "      <td>management</td>\n",
              "      <td>married</td>\n",
              "      <td>tertiary</td>\n",
              "      <td>0</td>\n",
              "      <td>328.0</td>\n",
              "      <td>1</td>\n",
              "      <td>0</td>\n",
              "      <td>cellular</td>\n",
              "      <td>29</td>\n",
              "      <td>jul</td>\n",
              "      <td>12</td>\n",
              "      <td>-1</td>\n",
              "      <td>0</td>\n",
              "      <td>NaN</td>\n",
              "      <td>14:40:26</td>\n",
              "      <td>14:41:31</td>\n",
              "      <td>test</td>\n",
              "    </tr>\n",
              "  </tbody>\n",
              "</table>\n",
              "</div>"
            ],
            "text/plain": [
              "         age    job_type marital_status  ... call_start  call_end  source\n",
              "0  65.000000     retired        married  ...   12:22:13  12:30:56    test\n",
              "1  36.000000  management        married  ...   17:59:45  18:07:40    test\n",
              "2  37.000000  management        married  ...   14:05:19  14:10:56    test\n",
              "3  30.065066  management         single  ...   17:33:27  09:47:54    test\n",
              "4  41.000000  management        married  ...   14:40:26  14:41:31    test\n",
              "\n",
              "[5 rows x 18 columns]"
            ]
          },
          "metadata": {
            "tags": []
          },
          "execution_count": 58
        }
      ]
    },
    {
      "cell_type": "code",
      "metadata": {
        "colab": {
          "base_uri": "https://localhost:8080/",
          "height": 406
        },
        "id": "CjWh2U3RrMle",
        "outputId": "91f8cc28-960d-4763-cc43-dbeaeefdffb3"
      },
      "source": [
        "# Storing the target variable - car_insurance separately\n",
        "target_train = train[['car_insurance']]\n",
        "target_train"
      ],
      "execution_count": 59,
      "outputs": [
        {
          "output_type": "execute_result",
          "data": {
            "text/html": [
              "<div>\n",
              "<style scoped>\n",
              "    .dataframe tbody tr th:only-of-type {\n",
              "        vertical-align: middle;\n",
              "    }\n",
              "\n",
              "    .dataframe tbody tr th {\n",
              "        vertical-align: top;\n",
              "    }\n",
              "\n",
              "    .dataframe thead th {\n",
              "        text-align: right;\n",
              "    }\n",
              "</style>\n",
              "<table border=\"1\" class=\"dataframe\">\n",
              "  <thead>\n",
              "    <tr style=\"text-align: right;\">\n",
              "      <th></th>\n",
              "      <th>car_insurance</th>\n",
              "    </tr>\n",
              "  </thead>\n",
              "  <tbody>\n",
              "    <tr>\n",
              "      <th>0</th>\n",
              "      <td>0</td>\n",
              "    </tr>\n",
              "    <tr>\n",
              "      <th>1</th>\n",
              "      <td>1</td>\n",
              "    </tr>\n",
              "    <tr>\n",
              "      <th>2</th>\n",
              "      <td>1</td>\n",
              "    </tr>\n",
              "    <tr>\n",
              "      <th>3</th>\n",
              "      <td>1</td>\n",
              "    </tr>\n",
              "    <tr>\n",
              "      <th>4</th>\n",
              "      <td>1</td>\n",
              "    </tr>\n",
              "    <tr>\n",
              "      <th>...</th>\n",
              "      <td>...</td>\n",
              "    </tr>\n",
              "    <tr>\n",
              "      <th>3097</th>\n",
              "      <td>0</td>\n",
              "    </tr>\n",
              "    <tr>\n",
              "      <th>3098</th>\n",
              "      <td>0</td>\n",
              "    </tr>\n",
              "    <tr>\n",
              "      <th>3099</th>\n",
              "      <td>1</td>\n",
              "    </tr>\n",
              "    <tr>\n",
              "      <th>3100</th>\n",
              "      <td>1</td>\n",
              "    </tr>\n",
              "    <tr>\n",
              "      <th>3101</th>\n",
              "      <td>1</td>\n",
              "    </tr>\n",
              "  </tbody>\n",
              "</table>\n",
              "<p>3102 rows × 1 columns</p>\n",
              "</div>"
            ],
            "text/plain": [
              "      car_insurance\n",
              "0                 0\n",
              "1                 1\n",
              "2                 1\n",
              "3                 1\n",
              "4                 1\n",
              "...             ...\n",
              "3097              0\n",
              "3098              0\n",
              "3099              1\n",
              "3100              1\n",
              "3101              1\n",
              "\n",
              "[3102 rows x 1 columns]"
            ]
          },
          "metadata": {
            "tags": []
          },
          "execution_count": 59
        }
      ]
    },
    {
      "cell_type": "code",
      "metadata": {
        "colab": {
          "base_uri": "https://localhost:8080/",
          "height": 235
        },
        "id": "6GAIWTnmsQkt",
        "outputId": "cd4626d0-1aff-4777-bd9c-466fa7af8a18"
      },
      "source": [
        "# Dropping the target variable from the train df for further analysis and merging and maintan consistency\n",
        "train.drop(['car_insurance'],axis=1, inplace =True)     # axis = 1 refers to column wise and inplace refers to making changes in the dataframe\n",
        "print(train.shape)\n",
        "train.head()"
      ],
      "execution_count": 60,
      "outputs": [
        {
          "output_type": "stream",
          "text": [
            "(3102, 18)\n"
          ],
          "name": "stdout"
        },
        {
          "output_type": "execute_result",
          "data": {
            "text/html": [
              "<div>\n",
              "<style scoped>\n",
              "    .dataframe tbody tr th:only-of-type {\n",
              "        vertical-align: middle;\n",
              "    }\n",
              "\n",
              "    .dataframe tbody tr th {\n",
              "        vertical-align: top;\n",
              "    }\n",
              "\n",
              "    .dataframe thead th {\n",
              "        text-align: right;\n",
              "    }\n",
              "</style>\n",
              "<table border=\"1\" class=\"dataframe\">\n",
              "  <thead>\n",
              "    <tr style=\"text-align: right;\">\n",
              "      <th></th>\n",
              "      <th>age</th>\n",
              "      <th>job_type</th>\n",
              "      <th>marital_status</th>\n",
              "      <th>education_level</th>\n",
              "      <th>default_or_not</th>\n",
              "      <th>balance_amt</th>\n",
              "      <th>household_insurance</th>\n",
              "      <th>car_loan</th>\n",
              "      <th>communication</th>\n",
              "      <th>last_contact_day</th>\n",
              "      <th>last_contact_month</th>\n",
              "      <th>no_of_contacts</th>\n",
              "      <th>days_passed</th>\n",
              "      <th>prev_attempts</th>\n",
              "      <th>Outcome</th>\n",
              "      <th>call_start</th>\n",
              "      <th>call_end</th>\n",
              "      <th>source</th>\n",
              "    </tr>\n",
              "  </thead>\n",
              "  <tbody>\n",
              "    <tr>\n",
              "      <th>0</th>\n",
              "      <td>47.000000</td>\n",
              "      <td>blue-collar</td>\n",
              "      <td>married</td>\n",
              "      <td>primary</td>\n",
              "      <td>0</td>\n",
              "      <td>1112.000000</td>\n",
              "      <td>1</td>\n",
              "      <td>0</td>\n",
              "      <td>cellular</td>\n",
              "      <td>13</td>\n",
              "      <td>may</td>\n",
              "      <td>1</td>\n",
              "      <td>-1</td>\n",
              "      <td>0</td>\n",
              "      <td>NaN</td>\n",
              "      <td>10:22:20</td>\n",
              "      <td>10:24:29</td>\n",
              "      <td>train</td>\n",
              "    </tr>\n",
              "    <tr>\n",
              "      <th>1</th>\n",
              "      <td>46.031442</td>\n",
              "      <td>management</td>\n",
              "      <td>married</td>\n",
              "      <td>tertiary</td>\n",
              "      <td>0</td>\n",
              "      <td>1.312372</td>\n",
              "      <td>0</td>\n",
              "      <td>1</td>\n",
              "      <td>cellular</td>\n",
              "      <td>15</td>\n",
              "      <td>may</td>\n",
              "      <td>3</td>\n",
              "      <td>219</td>\n",
              "      <td>1</td>\n",
              "      <td>other</td>\n",
              "      <td>09:06:30</td>\n",
              "      <td>13:59:48</td>\n",
              "      <td>train</td>\n",
              "    </tr>\n",
              "    <tr>\n",
              "      <th>2</th>\n",
              "      <td>36.000000</td>\n",
              "      <td>services</td>\n",
              "      <td>single</td>\n",
              "      <td>NaN</td>\n",
              "      <td>0</td>\n",
              "      <td>281.000000</td>\n",
              "      <td>1</td>\n",
              "      <td>0</td>\n",
              "      <td>NaN</td>\n",
              "      <td>16</td>\n",
              "      <td>may</td>\n",
              "      <td>1</td>\n",
              "      <td>-1</td>\n",
              "      <td>0</td>\n",
              "      <td>NaN</td>\n",
              "      <td>13:18:41</td>\n",
              "      <td>13:27:16</td>\n",
              "      <td>train</td>\n",
              "    </tr>\n",
              "    <tr>\n",
              "      <th>3</th>\n",
              "      <td>32.000000</td>\n",
              "      <td>technician</td>\n",
              "      <td>single</td>\n",
              "      <td>secondary</td>\n",
              "      <td>0</td>\n",
              "      <td>540.000000</td>\n",
              "      <td>0</td>\n",
              "      <td>1</td>\n",
              "      <td>cellular</td>\n",
              "      <td>29</td>\n",
              "      <td>jan</td>\n",
              "      <td>1</td>\n",
              "      <td>-1</td>\n",
              "      <td>0</td>\n",
              "      <td>NaN</td>\n",
              "      <td>10:09:18</td>\n",
              "      <td>10:21:48</td>\n",
              "      <td>train</td>\n",
              "    </tr>\n",
              "    <tr>\n",
              "      <th>4</th>\n",
              "      <td>30.000000</td>\n",
              "      <td>admin.</td>\n",
              "      <td>single</td>\n",
              "      <td>secondary</td>\n",
              "      <td>0</td>\n",
              "      <td>315.000000</td>\n",
              "      <td>1</td>\n",
              "      <td>0</td>\n",
              "      <td>cellular</td>\n",
              "      <td>14</td>\n",
              "      <td>may</td>\n",
              "      <td>3</td>\n",
              "      <td>346</td>\n",
              "      <td>4</td>\n",
              "      <td>failure</td>\n",
              "      <td>12:12:30</td>\n",
              "      <td>12:27:14</td>\n",
              "      <td>train</td>\n",
              "    </tr>\n",
              "  </tbody>\n",
              "</table>\n",
              "</div>"
            ],
            "text/plain": [
              "         age     job_type marital_status  ... call_start  call_end  source\n",
              "0  47.000000  blue-collar        married  ...   10:22:20  10:24:29   train\n",
              "1  46.031442   management        married  ...   09:06:30  13:59:48   train\n",
              "2  36.000000     services         single  ...   13:18:41  13:27:16   train\n",
              "3  32.000000   technician         single  ...   10:09:18  10:21:48   train\n",
              "4  30.000000       admin.         single  ...   12:12:30  12:27:14   train\n",
              "\n",
              "[5 rows x 18 columns]"
            ]
          },
          "metadata": {
            "tags": []
          },
          "execution_count": 60
        }
      ]
    },
    {
      "cell_type": "code",
      "metadata": {
        "colab": {
          "base_uri": "https://localhost:8080/",
          "height": 235
        },
        "id": "0A3pxOhCtaJz",
        "outputId": "f5925882-dfad-407b-fef1-60f2f785f1a6"
      },
      "source": [
        "# Merging both training and testing data for further cleaning\n",
        "new_train_test = pd.concat([train,test],ignore_index=True)    # ignoring their previous indexes and assigning new indices from 0 to n-1\n",
        "print(new_train_test.shape)\n",
        "new_train_test.tail()"
      ],
      "execution_count": 61,
      "outputs": [
        {
          "output_type": "stream",
          "text": [
            "(4037, 18)\n"
          ],
          "name": "stdout"
        },
        {
          "output_type": "execute_result",
          "data": {
            "text/html": [
              "<div>\n",
              "<style scoped>\n",
              "    .dataframe tbody tr th:only-of-type {\n",
              "        vertical-align: middle;\n",
              "    }\n",
              "\n",
              "    .dataframe tbody tr th {\n",
              "        vertical-align: top;\n",
              "    }\n",
              "\n",
              "    .dataframe thead th {\n",
              "        text-align: right;\n",
              "    }\n",
              "</style>\n",
              "<table border=\"1\" class=\"dataframe\">\n",
              "  <thead>\n",
              "    <tr style=\"text-align: right;\">\n",
              "      <th></th>\n",
              "      <th>age</th>\n",
              "      <th>job_type</th>\n",
              "      <th>marital_status</th>\n",
              "      <th>education_level</th>\n",
              "      <th>default_or_not</th>\n",
              "      <th>balance_amt</th>\n",
              "      <th>household_insurance</th>\n",
              "      <th>car_loan</th>\n",
              "      <th>communication</th>\n",
              "      <th>last_contact_day</th>\n",
              "      <th>last_contact_month</th>\n",
              "      <th>no_of_contacts</th>\n",
              "      <th>days_passed</th>\n",
              "      <th>prev_attempts</th>\n",
              "      <th>Outcome</th>\n",
              "      <th>call_start</th>\n",
              "      <th>call_end</th>\n",
              "      <th>source</th>\n",
              "    </tr>\n",
              "  </thead>\n",
              "  <tbody>\n",
              "    <tr>\n",
              "      <th>4032</th>\n",
              "      <td>31.0</td>\n",
              "      <td>blue-collar</td>\n",
              "      <td>married</td>\n",
              "      <td>secondary</td>\n",
              "      <td>0</td>\n",
              "      <td>152.0</td>\n",
              "      <td>1</td>\n",
              "      <td>1</td>\n",
              "      <td>cellular</td>\n",
              "      <td>8</td>\n",
              "      <td>jul</td>\n",
              "      <td>1</td>\n",
              "      <td>-1</td>\n",
              "      <td>0</td>\n",
              "      <td>NaN</td>\n",
              "      <td>16:28:02</td>\n",
              "      <td>16:41:53</td>\n",
              "      <td>test</td>\n",
              "    </tr>\n",
              "    <tr>\n",
              "      <th>4033</th>\n",
              "      <td>30.0</td>\n",
              "      <td>technician</td>\n",
              "      <td>single</td>\n",
              "      <td>secondary</td>\n",
              "      <td>0</td>\n",
              "      <td>53.0</td>\n",
              "      <td>1</td>\n",
              "      <td>0</td>\n",
              "      <td>cellular</td>\n",
              "      <td>18</td>\n",
              "      <td>jul</td>\n",
              "      <td>5</td>\n",
              "      <td>-1</td>\n",
              "      <td>0</td>\n",
              "      <td>NaN</td>\n",
              "      <td>15:31:18</td>\n",
              "      <td>15:37:10</td>\n",
              "      <td>test</td>\n",
              "    </tr>\n",
              "    <tr>\n",
              "      <th>4034</th>\n",
              "      <td>42.0</td>\n",
              "      <td>management</td>\n",
              "      <td>married</td>\n",
              "      <td>tertiary</td>\n",
              "      <td>0</td>\n",
              "      <td>36.0</td>\n",
              "      <td>0</td>\n",
              "      <td>0</td>\n",
              "      <td>cellular</td>\n",
              "      <td>21</td>\n",
              "      <td>nov</td>\n",
              "      <td>3</td>\n",
              "      <td>-1</td>\n",
              "      <td>0</td>\n",
              "      <td>NaN</td>\n",
              "      <td>11:38:43</td>\n",
              "      <td>11:49:47</td>\n",
              "      <td>test</td>\n",
              "    </tr>\n",
              "    <tr>\n",
              "      <th>4035</th>\n",
              "      <td>46.0</td>\n",
              "      <td>services</td>\n",
              "      <td>married</td>\n",
              "      <td>secondary</td>\n",
              "      <td>0</td>\n",
              "      <td>2948.0</td>\n",
              "      <td>0</td>\n",
              "      <td>0</td>\n",
              "      <td>cellular</td>\n",
              "      <td>21</td>\n",
              "      <td>nov</td>\n",
              "      <td>1</td>\n",
              "      <td>-1</td>\n",
              "      <td>0</td>\n",
              "      <td>NaN</td>\n",
              "      <td>13:17:55</td>\n",
              "      <td>13:32:48</td>\n",
              "      <td>test</td>\n",
              "    </tr>\n",
              "    <tr>\n",
              "      <th>4036</th>\n",
              "      <td>54.0</td>\n",
              "      <td>blue-collar</td>\n",
              "      <td>married</td>\n",
              "      <td>secondary</td>\n",
              "      <td>0</td>\n",
              "      <td>548.0</td>\n",
              "      <td>0</td>\n",
              "      <td>0</td>\n",
              "      <td>cellular</td>\n",
              "      <td>18</td>\n",
              "      <td>aug</td>\n",
              "      <td>7</td>\n",
              "      <td>-1</td>\n",
              "      <td>0</td>\n",
              "      <td>NaN</td>\n",
              "      <td>17:59:12</td>\n",
              "      <td>18:07:52</td>\n",
              "      <td>test</td>\n",
              "    </tr>\n",
              "  </tbody>\n",
              "</table>\n",
              "</div>"
            ],
            "text/plain": [
              "       age     job_type marital_status  ... call_start  call_end  source\n",
              "4032  31.0  blue-collar        married  ...   16:28:02  16:41:53    test\n",
              "4033  30.0   technician         single  ...   15:31:18  15:37:10    test\n",
              "4034  42.0   management        married  ...   11:38:43  11:49:47    test\n",
              "4035  46.0     services        married  ...   13:17:55  13:32:48    test\n",
              "4036  54.0  blue-collar        married  ...   17:59:12  18:07:52    test\n",
              "\n",
              "[5 rows x 18 columns]"
            ]
          },
          "metadata": {
            "tags": []
          },
          "execution_count": 61
        }
      ]
    },
    {
      "cell_type": "code",
      "metadata": {
        "colab": {
          "base_uri": "https://localhost:8080/",
          "height": 307
        },
        "id": "6Zcx37SqyAR4",
        "outputId": "31aca964-d891-4e21-ab85-749bfe8ebcb3"
      },
      "source": [
        "# Summarising the dataframe\n",
        "new_train_test.describe()"
      ],
      "execution_count": 62,
      "outputs": [
        {
          "output_type": "execute_result",
          "data": {
            "text/html": [
              "<div>\n",
              "<style scoped>\n",
              "    .dataframe tbody tr th:only-of-type {\n",
              "        vertical-align: middle;\n",
              "    }\n",
              "\n",
              "    .dataframe tbody tr th {\n",
              "        vertical-align: top;\n",
              "    }\n",
              "\n",
              "    .dataframe thead th {\n",
              "        text-align: right;\n",
              "    }\n",
              "</style>\n",
              "<table border=\"1\" class=\"dataframe\">\n",
              "  <thead>\n",
              "    <tr style=\"text-align: right;\">\n",
              "      <th></th>\n",
              "      <th>age</th>\n",
              "      <th>default_or_not</th>\n",
              "      <th>balance_amt</th>\n",
              "      <th>household_insurance</th>\n",
              "      <th>car_loan</th>\n",
              "      <th>last_contact_day</th>\n",
              "      <th>no_of_contacts</th>\n",
              "      <th>days_passed</th>\n",
              "      <th>prev_attempts</th>\n",
              "    </tr>\n",
              "  </thead>\n",
              "  <tbody>\n",
              "    <tr>\n",
              "      <th>count</th>\n",
              "      <td>4037.000000</td>\n",
              "      <td>4037.000000</td>\n",
              "      <td>4037.000000</td>\n",
              "      <td>4037.000000</td>\n",
              "      <td>4037.000000</td>\n",
              "      <td>4037.000000</td>\n",
              "      <td>4037.000000</td>\n",
              "      <td>4037.000000</td>\n",
              "      <td>4037.000000</td>\n",
              "    </tr>\n",
              "    <tr>\n",
              "      <th>mean</th>\n",
              "      <td>41.189274</td>\n",
              "      <td>0.013129</td>\n",
              "      <td>1574.694994</td>\n",
              "      <td>0.459995</td>\n",
              "      <td>0.117414</td>\n",
              "      <td>15.330196</td>\n",
              "      <td>2.386426</td>\n",
              "      <td>52.065891</td>\n",
              "      <td>0.790686</td>\n",
              "    </tr>\n",
              "    <tr>\n",
              "      <th>std</th>\n",
              "      <td>11.504905</td>\n",
              "      <td>0.113839</td>\n",
              "      <td>3550.250707</td>\n",
              "      <td>0.498459</td>\n",
              "      <td>0.321953</td>\n",
              "      <td>8.165424</td>\n",
              "      <td>2.696728</td>\n",
              "      <td>107.666216</td>\n",
              "      <td>2.166401</td>\n",
              "    </tr>\n",
              "    <tr>\n",
              "      <th>min</th>\n",
              "      <td>18.000000</td>\n",
              "      <td>0.000000</td>\n",
              "      <td>-3058.000000</td>\n",
              "      <td>0.000000</td>\n",
              "      <td>0.000000</td>\n",
              "      <td>1.000000</td>\n",
              "      <td>1.000000</td>\n",
              "      <td>-1.000000</td>\n",
              "      <td>0.000000</td>\n",
              "    </tr>\n",
              "    <tr>\n",
              "      <th>25%</th>\n",
              "      <td>32.000000</td>\n",
              "      <td>0.000000</td>\n",
              "      <td>121.000000</td>\n",
              "      <td>0.000000</td>\n",
              "      <td>0.000000</td>\n",
              "      <td>8.000000</td>\n",
              "      <td>1.000000</td>\n",
              "      <td>-1.000000</td>\n",
              "      <td>0.000000</td>\n",
              "    </tr>\n",
              "    <tr>\n",
              "      <th>50%</th>\n",
              "      <td>39.000000</td>\n",
              "      <td>0.000000</td>\n",
              "      <td>594.000000</td>\n",
              "      <td>0.000000</td>\n",
              "      <td>0.000000</td>\n",
              "      <td>15.000000</td>\n",
              "      <td>2.000000</td>\n",
              "      <td>-1.000000</td>\n",
              "      <td>0.000000</td>\n",
              "    </tr>\n",
              "    <tr>\n",
              "      <th>75%</th>\n",
              "      <td>49.000000</td>\n",
              "      <td>0.000000</td>\n",
              "      <td>1737.000000</td>\n",
              "      <td>1.000000</td>\n",
              "      <td>0.000000</td>\n",
              "      <td>21.000000</td>\n",
              "      <td>3.000000</td>\n",
              "      <td>68.000000</td>\n",
              "      <td>1.000000</td>\n",
              "    </tr>\n",
              "    <tr>\n",
              "      <th>max</th>\n",
              "      <td>95.000000</td>\n",
              "      <td>1.000000</td>\n",
              "      <td>98417.000000</td>\n",
              "      <td>1.000000</td>\n",
              "      <td>1.000000</td>\n",
              "      <td>31.000000</td>\n",
              "      <td>43.000000</td>\n",
              "      <td>854.000000</td>\n",
              "      <td>58.000000</td>\n",
              "    </tr>\n",
              "  </tbody>\n",
              "</table>\n",
              "</div>"
            ],
            "text/plain": [
              "               age  default_or_not  ...  days_passed  prev_attempts\n",
              "count  4037.000000     4037.000000  ...  4037.000000    4037.000000\n",
              "mean     41.189274        0.013129  ...    52.065891       0.790686\n",
              "std      11.504905        0.113839  ...   107.666216       2.166401\n",
              "min      18.000000        0.000000  ...    -1.000000       0.000000\n",
              "25%      32.000000        0.000000  ...    -1.000000       0.000000\n",
              "50%      39.000000        0.000000  ...    -1.000000       0.000000\n",
              "75%      49.000000        0.000000  ...    68.000000       1.000000\n",
              "max      95.000000        1.000000  ...   854.000000      58.000000\n",
              "\n",
              "[8 rows x 9 columns]"
            ]
          },
          "metadata": {
            "tags": []
          },
          "execution_count": 62
        }
      ]
    },
    {
      "cell_type": "code",
      "metadata": {
        "colab": {
          "base_uri": "https://localhost:8080/"
        },
        "id": "3zY5TDaQvEjz",
        "outputId": "1d000101-e3f4-42dc-99bc-8b2b6e08cc08"
      },
      "source": [
        "new_train_test.info()"
      ],
      "execution_count": 63,
      "outputs": [
        {
          "output_type": "stream",
          "text": [
            "<class 'pandas.core.frame.DataFrame'>\n",
            "RangeIndex: 4037 entries, 0 to 4036\n",
            "Data columns (total 18 columns):\n",
            " #   Column               Non-Null Count  Dtype  \n",
            "---  ------               --------------  -----  \n",
            " 0   age                  4037 non-null   float64\n",
            " 1   job_type             4021 non-null   object \n",
            " 2   marital_status       4037 non-null   object \n",
            " 3   education_level      3890 non-null   object \n",
            " 4   default_or_not       4037 non-null   int64  \n",
            " 5   balance_amt          4037 non-null   float64\n",
            " 6   household_insurance  4037 non-null   int64  \n",
            " 7   car_loan             4037 non-null   int64  \n",
            " 8   communication        3329 non-null   object \n",
            " 9   last_contact_day     4037 non-null   int64  \n",
            " 10  last_contact_month   4037 non-null   object \n",
            " 11  no_of_contacts       4037 non-null   int64  \n",
            " 12  days_passed          4037 non-null   int64  \n",
            " 13  prev_attempts        4037 non-null   int64  \n",
            " 14  Outcome              991 non-null    object \n",
            " 15  call_start           4037 non-null   object \n",
            " 16  call_end             4037 non-null   object \n",
            " 17  source               4037 non-null   object \n",
            "dtypes: float64(2), int64(7), object(9)\n",
            "memory usage: 567.8+ KB\n"
          ],
          "name": "stdout"
        }
      ]
    },
    {
      "cell_type": "code",
      "metadata": {
        "colab": {
          "base_uri": "https://localhost:8080/"
        },
        "id": "jkFj57YywFk7",
        "outputId": "be45f978-9be7-4db8-af4e-f528cfec90c6"
      },
      "source": [
        "# To get no. of missing data in each column\n",
        "miss_data = new_train_test.isnull().sum()\n",
        "print(miss_data,'\\n')\n",
        "miss_data = miss_data[miss_data>0]\n",
        "print(miss_data,'\\n')\n",
        "# Missing data by percentage\n",
        "miss_data_percentage = miss_data/len(new_train_test)*100\n",
        "print(miss_data_percentage)"
      ],
      "execution_count": 64,
      "outputs": [
        {
          "output_type": "stream",
          "text": [
            "age                       0\n",
            "job_type                 16\n",
            "marital_status            0\n",
            "education_level         147\n",
            "default_or_not            0\n",
            "balance_amt               0\n",
            "household_insurance       0\n",
            "car_loan                  0\n",
            "communication           708\n",
            "last_contact_day          0\n",
            "last_contact_month        0\n",
            "no_of_contacts            0\n",
            "days_passed               0\n",
            "prev_attempts             0\n",
            "Outcome                3046\n",
            "call_start                0\n",
            "call_end                  0\n",
            "source                    0\n",
            "dtype: int64 \n",
            "\n",
            "job_type             16\n",
            "education_level     147\n",
            "communication       708\n",
            "Outcome            3046\n",
            "dtype: int64 \n",
            "\n",
            "job_type            0.396334\n",
            "education_level     3.641318\n",
            "communication      17.537776\n",
            "Outcome            75.452068\n",
            "dtype: float64\n"
          ],
          "name": "stdout"
        }
      ]
    },
    {
      "cell_type": "code",
      "metadata": {
        "colab": {
          "base_uri": "https://localhost:8080/",
          "height": 217
        },
        "id": "7ur_9cF82PQh",
        "outputId": "b5ab9bd2-a369-4327-de9b-b44b6211669b"
      },
      "source": [
        "# Missing value treatment\n",
        "\n",
        "# Deleting the entire \"Outcome\" column since it has too many missing values, more than 75% and will not contribute accurately towards the final prediction\n",
        "new_train_test.drop(['Outcome'], axis=1, inplace=True)\n",
        "new_train_test.head()"
      ],
      "execution_count": 65,
      "outputs": [
        {
          "output_type": "execute_result",
          "data": {
            "text/html": [
              "<div>\n",
              "<style scoped>\n",
              "    .dataframe tbody tr th:only-of-type {\n",
              "        vertical-align: middle;\n",
              "    }\n",
              "\n",
              "    .dataframe tbody tr th {\n",
              "        vertical-align: top;\n",
              "    }\n",
              "\n",
              "    .dataframe thead th {\n",
              "        text-align: right;\n",
              "    }\n",
              "</style>\n",
              "<table border=\"1\" class=\"dataframe\">\n",
              "  <thead>\n",
              "    <tr style=\"text-align: right;\">\n",
              "      <th></th>\n",
              "      <th>age</th>\n",
              "      <th>job_type</th>\n",
              "      <th>marital_status</th>\n",
              "      <th>education_level</th>\n",
              "      <th>default_or_not</th>\n",
              "      <th>balance_amt</th>\n",
              "      <th>household_insurance</th>\n",
              "      <th>car_loan</th>\n",
              "      <th>communication</th>\n",
              "      <th>last_contact_day</th>\n",
              "      <th>last_contact_month</th>\n",
              "      <th>no_of_contacts</th>\n",
              "      <th>days_passed</th>\n",
              "      <th>prev_attempts</th>\n",
              "      <th>call_start</th>\n",
              "      <th>call_end</th>\n",
              "      <th>source</th>\n",
              "    </tr>\n",
              "  </thead>\n",
              "  <tbody>\n",
              "    <tr>\n",
              "      <th>0</th>\n",
              "      <td>47.000000</td>\n",
              "      <td>blue-collar</td>\n",
              "      <td>married</td>\n",
              "      <td>primary</td>\n",
              "      <td>0</td>\n",
              "      <td>1112.000000</td>\n",
              "      <td>1</td>\n",
              "      <td>0</td>\n",
              "      <td>cellular</td>\n",
              "      <td>13</td>\n",
              "      <td>may</td>\n",
              "      <td>1</td>\n",
              "      <td>-1</td>\n",
              "      <td>0</td>\n",
              "      <td>10:22:20</td>\n",
              "      <td>10:24:29</td>\n",
              "      <td>train</td>\n",
              "    </tr>\n",
              "    <tr>\n",
              "      <th>1</th>\n",
              "      <td>46.031442</td>\n",
              "      <td>management</td>\n",
              "      <td>married</td>\n",
              "      <td>tertiary</td>\n",
              "      <td>0</td>\n",
              "      <td>1.312372</td>\n",
              "      <td>0</td>\n",
              "      <td>1</td>\n",
              "      <td>cellular</td>\n",
              "      <td>15</td>\n",
              "      <td>may</td>\n",
              "      <td>3</td>\n",
              "      <td>219</td>\n",
              "      <td>1</td>\n",
              "      <td>09:06:30</td>\n",
              "      <td>13:59:48</td>\n",
              "      <td>train</td>\n",
              "    </tr>\n",
              "    <tr>\n",
              "      <th>2</th>\n",
              "      <td>36.000000</td>\n",
              "      <td>services</td>\n",
              "      <td>single</td>\n",
              "      <td>NaN</td>\n",
              "      <td>0</td>\n",
              "      <td>281.000000</td>\n",
              "      <td>1</td>\n",
              "      <td>0</td>\n",
              "      <td>NaN</td>\n",
              "      <td>16</td>\n",
              "      <td>may</td>\n",
              "      <td>1</td>\n",
              "      <td>-1</td>\n",
              "      <td>0</td>\n",
              "      <td>13:18:41</td>\n",
              "      <td>13:27:16</td>\n",
              "      <td>train</td>\n",
              "    </tr>\n",
              "    <tr>\n",
              "      <th>3</th>\n",
              "      <td>32.000000</td>\n",
              "      <td>technician</td>\n",
              "      <td>single</td>\n",
              "      <td>secondary</td>\n",
              "      <td>0</td>\n",
              "      <td>540.000000</td>\n",
              "      <td>0</td>\n",
              "      <td>1</td>\n",
              "      <td>cellular</td>\n",
              "      <td>29</td>\n",
              "      <td>jan</td>\n",
              "      <td>1</td>\n",
              "      <td>-1</td>\n",
              "      <td>0</td>\n",
              "      <td>10:09:18</td>\n",
              "      <td>10:21:48</td>\n",
              "      <td>train</td>\n",
              "    </tr>\n",
              "    <tr>\n",
              "      <th>4</th>\n",
              "      <td>30.000000</td>\n",
              "      <td>admin.</td>\n",
              "      <td>single</td>\n",
              "      <td>secondary</td>\n",
              "      <td>0</td>\n",
              "      <td>315.000000</td>\n",
              "      <td>1</td>\n",
              "      <td>0</td>\n",
              "      <td>cellular</td>\n",
              "      <td>14</td>\n",
              "      <td>may</td>\n",
              "      <td>3</td>\n",
              "      <td>346</td>\n",
              "      <td>4</td>\n",
              "      <td>12:12:30</td>\n",
              "      <td>12:27:14</td>\n",
              "      <td>train</td>\n",
              "    </tr>\n",
              "  </tbody>\n",
              "</table>\n",
              "</div>"
            ],
            "text/plain": [
              "         age     job_type marital_status  ... call_start  call_end  source\n",
              "0  47.000000  blue-collar        married  ...   10:22:20  10:24:29   train\n",
              "1  46.031442   management        married  ...   09:06:30  13:59:48   train\n",
              "2  36.000000     services         single  ...   13:18:41  13:27:16   train\n",
              "3  32.000000   technician         single  ...   10:09:18  10:21:48   train\n",
              "4  30.000000       admin.         single  ...   12:12:30  12:27:14   train\n",
              "\n",
              "[5 rows x 17 columns]"
            ]
          },
          "metadata": {
            "tags": []
          },
          "execution_count": 65
        }
      ]
    },
    {
      "cell_type": "code",
      "metadata": {
        "colab": {
          "base_uri": "https://localhost:8080/"
        },
        "id": "G-2SvbfwEedc",
        "outputId": "dde79566-893e-46cc-a71c-cfddf58374a4"
      },
      "source": [
        "# getting all the categorical columns\n",
        "cat_cols = new_train_test.select_dtypes(include = 'object').columns     \n",
        "cat_cols"
      ],
      "execution_count": 66,
      "outputs": [
        {
          "output_type": "execute_result",
          "data": {
            "text/plain": [
              "Index(['job_type', 'marital_status', 'education_level', 'communication',\n",
              "       'last_contact_month', 'call_start', 'call_end', 'source'],\n",
              "      dtype='object')"
            ]
          },
          "metadata": {
            "tags": []
          },
          "execution_count": 66
        }
      ]
    },
    {
      "cell_type": "code",
      "metadata": {
        "colab": {
          "base_uri": "https://localhost:8080/",
          "height": 217
        },
        "id": "3rdbRW375_qk",
        "outputId": "fd8659c9-cb63-4940-d915-30f174f05bd6"
      },
      "source": [
        "# Importing SimpleImputer from sklearn - this will be used to impute data in the cells with missing values\n",
        "from sklearn.impute import SimpleImputer\n",
        "\n",
        "# missing values - categorical - impute with mode (most frequent)\n",
        "for i in cat_cols:\n",
        "  mode_imputer = SimpleImputer(missing_values=np.NaN, strategy='most_frequent')\n",
        "  mode_imputer = mode_imputer.fit(new_train_test[[i]])\n",
        "  new_train_test[i] = mode_imputer.transform(new_train_test[[i]]).ravel()\n",
        "  \n",
        "new_train_test.head()"
      ],
      "execution_count": 67,
      "outputs": [
        {
          "output_type": "execute_result",
          "data": {
            "text/html": [
              "<div>\n",
              "<style scoped>\n",
              "    .dataframe tbody tr th:only-of-type {\n",
              "        vertical-align: middle;\n",
              "    }\n",
              "\n",
              "    .dataframe tbody tr th {\n",
              "        vertical-align: top;\n",
              "    }\n",
              "\n",
              "    .dataframe thead th {\n",
              "        text-align: right;\n",
              "    }\n",
              "</style>\n",
              "<table border=\"1\" class=\"dataframe\">\n",
              "  <thead>\n",
              "    <tr style=\"text-align: right;\">\n",
              "      <th></th>\n",
              "      <th>age</th>\n",
              "      <th>job_type</th>\n",
              "      <th>marital_status</th>\n",
              "      <th>education_level</th>\n",
              "      <th>default_or_not</th>\n",
              "      <th>balance_amt</th>\n",
              "      <th>household_insurance</th>\n",
              "      <th>car_loan</th>\n",
              "      <th>communication</th>\n",
              "      <th>last_contact_day</th>\n",
              "      <th>last_contact_month</th>\n",
              "      <th>no_of_contacts</th>\n",
              "      <th>days_passed</th>\n",
              "      <th>prev_attempts</th>\n",
              "      <th>call_start</th>\n",
              "      <th>call_end</th>\n",
              "      <th>source</th>\n",
              "    </tr>\n",
              "  </thead>\n",
              "  <tbody>\n",
              "    <tr>\n",
              "      <th>0</th>\n",
              "      <td>47.000000</td>\n",
              "      <td>blue-collar</td>\n",
              "      <td>married</td>\n",
              "      <td>primary</td>\n",
              "      <td>0</td>\n",
              "      <td>1112.000000</td>\n",
              "      <td>1</td>\n",
              "      <td>0</td>\n",
              "      <td>cellular</td>\n",
              "      <td>13</td>\n",
              "      <td>may</td>\n",
              "      <td>1</td>\n",
              "      <td>-1</td>\n",
              "      <td>0</td>\n",
              "      <td>10:22:20</td>\n",
              "      <td>10:24:29</td>\n",
              "      <td>train</td>\n",
              "    </tr>\n",
              "    <tr>\n",
              "      <th>1</th>\n",
              "      <td>46.031442</td>\n",
              "      <td>management</td>\n",
              "      <td>married</td>\n",
              "      <td>tertiary</td>\n",
              "      <td>0</td>\n",
              "      <td>1.312372</td>\n",
              "      <td>0</td>\n",
              "      <td>1</td>\n",
              "      <td>cellular</td>\n",
              "      <td>15</td>\n",
              "      <td>may</td>\n",
              "      <td>3</td>\n",
              "      <td>219</td>\n",
              "      <td>1</td>\n",
              "      <td>09:06:30</td>\n",
              "      <td>13:59:48</td>\n",
              "      <td>train</td>\n",
              "    </tr>\n",
              "    <tr>\n",
              "      <th>2</th>\n",
              "      <td>36.000000</td>\n",
              "      <td>services</td>\n",
              "      <td>single</td>\n",
              "      <td>secondary</td>\n",
              "      <td>0</td>\n",
              "      <td>281.000000</td>\n",
              "      <td>1</td>\n",
              "      <td>0</td>\n",
              "      <td>cellular</td>\n",
              "      <td>16</td>\n",
              "      <td>may</td>\n",
              "      <td>1</td>\n",
              "      <td>-1</td>\n",
              "      <td>0</td>\n",
              "      <td>13:18:41</td>\n",
              "      <td>13:27:16</td>\n",
              "      <td>train</td>\n",
              "    </tr>\n",
              "    <tr>\n",
              "      <th>3</th>\n",
              "      <td>32.000000</td>\n",
              "      <td>technician</td>\n",
              "      <td>single</td>\n",
              "      <td>secondary</td>\n",
              "      <td>0</td>\n",
              "      <td>540.000000</td>\n",
              "      <td>0</td>\n",
              "      <td>1</td>\n",
              "      <td>cellular</td>\n",
              "      <td>29</td>\n",
              "      <td>jan</td>\n",
              "      <td>1</td>\n",
              "      <td>-1</td>\n",
              "      <td>0</td>\n",
              "      <td>10:09:18</td>\n",
              "      <td>10:21:48</td>\n",
              "      <td>train</td>\n",
              "    </tr>\n",
              "    <tr>\n",
              "      <th>4</th>\n",
              "      <td>30.000000</td>\n",
              "      <td>admin.</td>\n",
              "      <td>single</td>\n",
              "      <td>secondary</td>\n",
              "      <td>0</td>\n",
              "      <td>315.000000</td>\n",
              "      <td>1</td>\n",
              "      <td>0</td>\n",
              "      <td>cellular</td>\n",
              "      <td>14</td>\n",
              "      <td>may</td>\n",
              "      <td>3</td>\n",
              "      <td>346</td>\n",
              "      <td>4</td>\n",
              "      <td>12:12:30</td>\n",
              "      <td>12:27:14</td>\n",
              "      <td>train</td>\n",
              "    </tr>\n",
              "  </tbody>\n",
              "</table>\n",
              "</div>"
            ],
            "text/plain": [
              "         age     job_type marital_status  ... call_start  call_end  source\n",
              "0  47.000000  blue-collar        married  ...   10:22:20  10:24:29   train\n",
              "1  46.031442   management        married  ...   09:06:30  13:59:48   train\n",
              "2  36.000000     services         single  ...   13:18:41  13:27:16   train\n",
              "3  32.000000   technician         single  ...   10:09:18  10:21:48   train\n",
              "4  30.000000       admin.         single  ...   12:12:30  12:27:14   train\n",
              "\n",
              "[5 rows x 17 columns]"
            ]
          },
          "metadata": {
            "tags": []
          },
          "execution_count": 67
        }
      ]
    },
    {
      "cell_type": "code",
      "metadata": {
        "colab": {
          "base_uri": "https://localhost:8080/"
        },
        "id": "9F_8RwjIHmEC",
        "outputId": "45b11587-7887-416e-ae30-56092c65fcf9"
      },
      "source": [
        "new_train_test.info()"
      ],
      "execution_count": 68,
      "outputs": [
        {
          "output_type": "stream",
          "text": [
            "<class 'pandas.core.frame.DataFrame'>\n",
            "RangeIndex: 4037 entries, 0 to 4036\n",
            "Data columns (total 17 columns):\n",
            " #   Column               Non-Null Count  Dtype  \n",
            "---  ------               --------------  -----  \n",
            " 0   age                  4037 non-null   float64\n",
            " 1   job_type             4037 non-null   object \n",
            " 2   marital_status       4037 non-null   object \n",
            " 3   education_level      4037 non-null   object \n",
            " 4   default_or_not       4037 non-null   int64  \n",
            " 5   balance_amt          4037 non-null   float64\n",
            " 6   household_insurance  4037 non-null   int64  \n",
            " 7   car_loan             4037 non-null   int64  \n",
            " 8   communication        4037 non-null   object \n",
            " 9   last_contact_day     4037 non-null   int64  \n",
            " 10  last_contact_month   4037 non-null   object \n",
            " 11  no_of_contacts       4037 non-null   int64  \n",
            " 12  days_passed          4037 non-null   int64  \n",
            " 13  prev_attempts        4037 non-null   int64  \n",
            " 14  call_start           4037 non-null   object \n",
            " 15  call_end             4037 non-null   object \n",
            " 16  source               4037 non-null   object \n",
            "dtypes: float64(2), int64(7), object(8)\n",
            "memory usage: 536.3+ KB\n"
          ],
          "name": "stdout"
        }
      ]
    },
    {
      "cell_type": "code",
      "metadata": {
        "colab": {
          "base_uri": "https://localhost:8080/",
          "height": 217
        },
        "id": "aq9-TFaSMvz5",
        "outputId": "f0e7fd57-8663-443b-8b98-f7e8c391d778"
      },
      "source": [
        "# As mentioned -1 in column days_passed are missing values\n",
        "new_train_test['days_passed'].value_counts()\n",
        "# Dropping the days_passed column since too many missing values - almost 70%\n",
        "del new_train_test['days_passed']\n",
        "new_train_test.head()"
      ],
      "execution_count": 69,
      "outputs": [
        {
          "output_type": "execute_result",
          "data": {
            "text/html": [
              "<div>\n",
              "<style scoped>\n",
              "    .dataframe tbody tr th:only-of-type {\n",
              "        vertical-align: middle;\n",
              "    }\n",
              "\n",
              "    .dataframe tbody tr th {\n",
              "        vertical-align: top;\n",
              "    }\n",
              "\n",
              "    .dataframe thead th {\n",
              "        text-align: right;\n",
              "    }\n",
              "</style>\n",
              "<table border=\"1\" class=\"dataframe\">\n",
              "  <thead>\n",
              "    <tr style=\"text-align: right;\">\n",
              "      <th></th>\n",
              "      <th>age</th>\n",
              "      <th>job_type</th>\n",
              "      <th>marital_status</th>\n",
              "      <th>education_level</th>\n",
              "      <th>default_or_not</th>\n",
              "      <th>balance_amt</th>\n",
              "      <th>household_insurance</th>\n",
              "      <th>car_loan</th>\n",
              "      <th>communication</th>\n",
              "      <th>last_contact_day</th>\n",
              "      <th>last_contact_month</th>\n",
              "      <th>no_of_contacts</th>\n",
              "      <th>prev_attempts</th>\n",
              "      <th>call_start</th>\n",
              "      <th>call_end</th>\n",
              "      <th>source</th>\n",
              "    </tr>\n",
              "  </thead>\n",
              "  <tbody>\n",
              "    <tr>\n",
              "      <th>0</th>\n",
              "      <td>47.000000</td>\n",
              "      <td>blue-collar</td>\n",
              "      <td>married</td>\n",
              "      <td>primary</td>\n",
              "      <td>0</td>\n",
              "      <td>1112.000000</td>\n",
              "      <td>1</td>\n",
              "      <td>0</td>\n",
              "      <td>cellular</td>\n",
              "      <td>13</td>\n",
              "      <td>may</td>\n",
              "      <td>1</td>\n",
              "      <td>0</td>\n",
              "      <td>10:22:20</td>\n",
              "      <td>10:24:29</td>\n",
              "      <td>train</td>\n",
              "    </tr>\n",
              "    <tr>\n",
              "      <th>1</th>\n",
              "      <td>46.031442</td>\n",
              "      <td>management</td>\n",
              "      <td>married</td>\n",
              "      <td>tertiary</td>\n",
              "      <td>0</td>\n",
              "      <td>1.312372</td>\n",
              "      <td>0</td>\n",
              "      <td>1</td>\n",
              "      <td>cellular</td>\n",
              "      <td>15</td>\n",
              "      <td>may</td>\n",
              "      <td>3</td>\n",
              "      <td>1</td>\n",
              "      <td>09:06:30</td>\n",
              "      <td>13:59:48</td>\n",
              "      <td>train</td>\n",
              "    </tr>\n",
              "    <tr>\n",
              "      <th>2</th>\n",
              "      <td>36.000000</td>\n",
              "      <td>services</td>\n",
              "      <td>single</td>\n",
              "      <td>secondary</td>\n",
              "      <td>0</td>\n",
              "      <td>281.000000</td>\n",
              "      <td>1</td>\n",
              "      <td>0</td>\n",
              "      <td>cellular</td>\n",
              "      <td>16</td>\n",
              "      <td>may</td>\n",
              "      <td>1</td>\n",
              "      <td>0</td>\n",
              "      <td>13:18:41</td>\n",
              "      <td>13:27:16</td>\n",
              "      <td>train</td>\n",
              "    </tr>\n",
              "    <tr>\n",
              "      <th>3</th>\n",
              "      <td>32.000000</td>\n",
              "      <td>technician</td>\n",
              "      <td>single</td>\n",
              "      <td>secondary</td>\n",
              "      <td>0</td>\n",
              "      <td>540.000000</td>\n",
              "      <td>0</td>\n",
              "      <td>1</td>\n",
              "      <td>cellular</td>\n",
              "      <td>29</td>\n",
              "      <td>jan</td>\n",
              "      <td>1</td>\n",
              "      <td>0</td>\n",
              "      <td>10:09:18</td>\n",
              "      <td>10:21:48</td>\n",
              "      <td>train</td>\n",
              "    </tr>\n",
              "    <tr>\n",
              "      <th>4</th>\n",
              "      <td>30.000000</td>\n",
              "      <td>admin.</td>\n",
              "      <td>single</td>\n",
              "      <td>secondary</td>\n",
              "      <td>0</td>\n",
              "      <td>315.000000</td>\n",
              "      <td>1</td>\n",
              "      <td>0</td>\n",
              "      <td>cellular</td>\n",
              "      <td>14</td>\n",
              "      <td>may</td>\n",
              "      <td>3</td>\n",
              "      <td>4</td>\n",
              "      <td>12:12:30</td>\n",
              "      <td>12:27:14</td>\n",
              "      <td>train</td>\n",
              "    </tr>\n",
              "  </tbody>\n",
              "</table>\n",
              "</div>"
            ],
            "text/plain": [
              "         age     job_type marital_status  ... call_start  call_end  source\n",
              "0  47.000000  blue-collar        married  ...   10:22:20  10:24:29   train\n",
              "1  46.031442   management        married  ...   09:06:30  13:59:48   train\n",
              "2  36.000000     services         single  ...   13:18:41  13:27:16   train\n",
              "3  32.000000   technician         single  ...   10:09:18  10:21:48   train\n",
              "4  30.000000       admin.         single  ...   12:12:30  12:27:14   train\n",
              "\n",
              "[5 rows x 16 columns]"
            ]
          },
          "metadata": {
            "tags": []
          },
          "execution_count": 69
        }
      ]
    },
    {
      "cell_type": "code",
      "metadata": {
        "colab": {
          "base_uri": "https://localhost:8080/",
          "height": 287
        },
        "id": "NMCdQEYwoPto",
        "outputId": "b23c2f46-f0dd-4b1e-bbea-f7a7ab9d88a2"
      },
      "source": [
        "new_train_test.describe()"
      ],
      "execution_count": 70,
      "outputs": [
        {
          "output_type": "execute_result",
          "data": {
            "text/html": [
              "<div>\n",
              "<style scoped>\n",
              "    .dataframe tbody tr th:only-of-type {\n",
              "        vertical-align: middle;\n",
              "    }\n",
              "\n",
              "    .dataframe tbody tr th {\n",
              "        vertical-align: top;\n",
              "    }\n",
              "\n",
              "    .dataframe thead th {\n",
              "        text-align: right;\n",
              "    }\n",
              "</style>\n",
              "<table border=\"1\" class=\"dataframe\">\n",
              "  <thead>\n",
              "    <tr style=\"text-align: right;\">\n",
              "      <th></th>\n",
              "      <th>age</th>\n",
              "      <th>default_or_not</th>\n",
              "      <th>balance_amt</th>\n",
              "      <th>household_insurance</th>\n",
              "      <th>car_loan</th>\n",
              "      <th>last_contact_day</th>\n",
              "      <th>no_of_contacts</th>\n",
              "      <th>prev_attempts</th>\n",
              "    </tr>\n",
              "  </thead>\n",
              "  <tbody>\n",
              "    <tr>\n",
              "      <th>count</th>\n",
              "      <td>4037.000000</td>\n",
              "      <td>4037.000000</td>\n",
              "      <td>4037.000000</td>\n",
              "      <td>4037.000000</td>\n",
              "      <td>4037.000000</td>\n",
              "      <td>4037.000000</td>\n",
              "      <td>4037.000000</td>\n",
              "      <td>4037.000000</td>\n",
              "    </tr>\n",
              "    <tr>\n",
              "      <th>mean</th>\n",
              "      <td>41.189274</td>\n",
              "      <td>0.013129</td>\n",
              "      <td>1574.694994</td>\n",
              "      <td>0.459995</td>\n",
              "      <td>0.117414</td>\n",
              "      <td>15.330196</td>\n",
              "      <td>2.386426</td>\n",
              "      <td>0.790686</td>\n",
              "    </tr>\n",
              "    <tr>\n",
              "      <th>std</th>\n",
              "      <td>11.504905</td>\n",
              "      <td>0.113839</td>\n",
              "      <td>3550.250707</td>\n",
              "      <td>0.498459</td>\n",
              "      <td>0.321953</td>\n",
              "      <td>8.165424</td>\n",
              "      <td>2.696728</td>\n",
              "      <td>2.166401</td>\n",
              "    </tr>\n",
              "    <tr>\n",
              "      <th>min</th>\n",
              "      <td>18.000000</td>\n",
              "      <td>0.000000</td>\n",
              "      <td>-3058.000000</td>\n",
              "      <td>0.000000</td>\n",
              "      <td>0.000000</td>\n",
              "      <td>1.000000</td>\n",
              "      <td>1.000000</td>\n",
              "      <td>0.000000</td>\n",
              "    </tr>\n",
              "    <tr>\n",
              "      <th>25%</th>\n",
              "      <td>32.000000</td>\n",
              "      <td>0.000000</td>\n",
              "      <td>121.000000</td>\n",
              "      <td>0.000000</td>\n",
              "      <td>0.000000</td>\n",
              "      <td>8.000000</td>\n",
              "      <td>1.000000</td>\n",
              "      <td>0.000000</td>\n",
              "    </tr>\n",
              "    <tr>\n",
              "      <th>50%</th>\n",
              "      <td>39.000000</td>\n",
              "      <td>0.000000</td>\n",
              "      <td>594.000000</td>\n",
              "      <td>0.000000</td>\n",
              "      <td>0.000000</td>\n",
              "      <td>15.000000</td>\n",
              "      <td>2.000000</td>\n",
              "      <td>0.000000</td>\n",
              "    </tr>\n",
              "    <tr>\n",
              "      <th>75%</th>\n",
              "      <td>49.000000</td>\n",
              "      <td>0.000000</td>\n",
              "      <td>1737.000000</td>\n",
              "      <td>1.000000</td>\n",
              "      <td>0.000000</td>\n",
              "      <td>21.000000</td>\n",
              "      <td>3.000000</td>\n",
              "      <td>1.000000</td>\n",
              "    </tr>\n",
              "    <tr>\n",
              "      <th>max</th>\n",
              "      <td>95.000000</td>\n",
              "      <td>1.000000</td>\n",
              "      <td>98417.000000</td>\n",
              "      <td>1.000000</td>\n",
              "      <td>1.000000</td>\n",
              "      <td>31.000000</td>\n",
              "      <td>43.000000</td>\n",
              "      <td>58.000000</td>\n",
              "    </tr>\n",
              "  </tbody>\n",
              "</table>\n",
              "</div>"
            ],
            "text/plain": [
              "               age  default_or_not  ...  no_of_contacts  prev_attempts\n",
              "count  4037.000000     4037.000000  ...     4037.000000    4037.000000\n",
              "mean     41.189274        0.013129  ...        2.386426       0.790686\n",
              "std      11.504905        0.113839  ...        2.696728       2.166401\n",
              "min      18.000000        0.000000  ...        1.000000       0.000000\n",
              "25%      32.000000        0.000000  ...        1.000000       0.000000\n",
              "50%      39.000000        0.000000  ...        2.000000       0.000000\n",
              "75%      49.000000        0.000000  ...        3.000000       1.000000\n",
              "max      95.000000        1.000000  ...       43.000000      58.000000\n",
              "\n",
              "[8 rows x 8 columns]"
            ]
          },
          "metadata": {
            "tags": []
          },
          "execution_count": 70
        }
      ]
    },
    {
      "cell_type": "code",
      "metadata": {
        "colab": {
          "base_uri": "https://localhost:8080/",
          "height": 217
        },
        "id": "EVGtP01At2xh",
        "outputId": "263274c3-a518-4f08-869f-10e0adc44198"
      },
      "source": [
        "# Omit irrelevant columns\n",
        "new_train_test = new_train_test[['age','job_type','marital_status','education_level','default_or_not','balance_amt','household_insurance','car_loan','no_of_contacts','prev_attempts','source']]\n",
        "new_train_test.head()"
      ],
      "execution_count": 71,
      "outputs": [
        {
          "output_type": "execute_result",
          "data": {
            "text/html": [
              "<div>\n",
              "<style scoped>\n",
              "    .dataframe tbody tr th:only-of-type {\n",
              "        vertical-align: middle;\n",
              "    }\n",
              "\n",
              "    .dataframe tbody tr th {\n",
              "        vertical-align: top;\n",
              "    }\n",
              "\n",
              "    .dataframe thead th {\n",
              "        text-align: right;\n",
              "    }\n",
              "</style>\n",
              "<table border=\"1\" class=\"dataframe\">\n",
              "  <thead>\n",
              "    <tr style=\"text-align: right;\">\n",
              "      <th></th>\n",
              "      <th>age</th>\n",
              "      <th>job_type</th>\n",
              "      <th>marital_status</th>\n",
              "      <th>education_level</th>\n",
              "      <th>default_or_not</th>\n",
              "      <th>balance_amt</th>\n",
              "      <th>household_insurance</th>\n",
              "      <th>car_loan</th>\n",
              "      <th>no_of_contacts</th>\n",
              "      <th>prev_attempts</th>\n",
              "      <th>source</th>\n",
              "    </tr>\n",
              "  </thead>\n",
              "  <tbody>\n",
              "    <tr>\n",
              "      <th>0</th>\n",
              "      <td>47.000000</td>\n",
              "      <td>blue-collar</td>\n",
              "      <td>married</td>\n",
              "      <td>primary</td>\n",
              "      <td>0</td>\n",
              "      <td>1112.000000</td>\n",
              "      <td>1</td>\n",
              "      <td>0</td>\n",
              "      <td>1</td>\n",
              "      <td>0</td>\n",
              "      <td>train</td>\n",
              "    </tr>\n",
              "    <tr>\n",
              "      <th>1</th>\n",
              "      <td>46.031442</td>\n",
              "      <td>management</td>\n",
              "      <td>married</td>\n",
              "      <td>tertiary</td>\n",
              "      <td>0</td>\n",
              "      <td>1.312372</td>\n",
              "      <td>0</td>\n",
              "      <td>1</td>\n",
              "      <td>3</td>\n",
              "      <td>1</td>\n",
              "      <td>train</td>\n",
              "    </tr>\n",
              "    <tr>\n",
              "      <th>2</th>\n",
              "      <td>36.000000</td>\n",
              "      <td>services</td>\n",
              "      <td>single</td>\n",
              "      <td>secondary</td>\n",
              "      <td>0</td>\n",
              "      <td>281.000000</td>\n",
              "      <td>1</td>\n",
              "      <td>0</td>\n",
              "      <td>1</td>\n",
              "      <td>0</td>\n",
              "      <td>train</td>\n",
              "    </tr>\n",
              "    <tr>\n",
              "      <th>3</th>\n",
              "      <td>32.000000</td>\n",
              "      <td>technician</td>\n",
              "      <td>single</td>\n",
              "      <td>secondary</td>\n",
              "      <td>0</td>\n",
              "      <td>540.000000</td>\n",
              "      <td>0</td>\n",
              "      <td>1</td>\n",
              "      <td>1</td>\n",
              "      <td>0</td>\n",
              "      <td>train</td>\n",
              "    </tr>\n",
              "    <tr>\n",
              "      <th>4</th>\n",
              "      <td>30.000000</td>\n",
              "      <td>admin.</td>\n",
              "      <td>single</td>\n",
              "      <td>secondary</td>\n",
              "      <td>0</td>\n",
              "      <td>315.000000</td>\n",
              "      <td>1</td>\n",
              "      <td>0</td>\n",
              "      <td>3</td>\n",
              "      <td>4</td>\n",
              "      <td>train</td>\n",
              "    </tr>\n",
              "  </tbody>\n",
              "</table>\n",
              "</div>"
            ],
            "text/plain": [
              "         age     job_type marital_status  ... no_of_contacts  prev_attempts  source\n",
              "0  47.000000  blue-collar        married  ...              1              0   train\n",
              "1  46.031442   management        married  ...              3              1   train\n",
              "2  36.000000     services         single  ...              1              0   train\n",
              "3  32.000000   technician         single  ...              1              0   train\n",
              "4  30.000000       admin.         single  ...              3              4   train\n",
              "\n",
              "[5 rows x 11 columns]"
            ]
          },
          "metadata": {
            "tags": []
          },
          "execution_count": 71
        }
      ]
    },
    {
      "cell_type": "code",
      "metadata": {
        "colab": {
          "base_uri": "https://localhost:8080/",
          "height": 353
        },
        "id": "sf4wymVuqNWY",
        "outputId": "946a7eda-c93b-4bcf-8d93-c761e240a59a"
      },
      "source": [
        "sns.countplot(new_train_test.job_type)"
      ],
      "execution_count": 72,
      "outputs": [
        {
          "output_type": "stream",
          "text": [
            "/usr/local/lib/python3.7/dist-packages/seaborn/_decorators.py:43: FutureWarning: Pass the following variable as a keyword arg: x. From version 0.12, the only valid positional argument will be `data`, and passing other arguments without an explicit keyword will result in an error or misinterpretation.\n",
            "  FutureWarning\n"
          ],
          "name": "stderr"
        },
        {
          "output_type": "execute_result",
          "data": {
            "text/plain": [
              "<matplotlib.axes._subplots.AxesSubplot at 0x7f3e704431d0>"
            ]
          },
          "metadata": {
            "tags": []
          },
          "execution_count": 72
        },
        {
          "output_type": "display_data",
          "data": {
            "image/png": "[encoded data removed]",
            "text/plain": [
              "<Figure size 432x288 with 1 Axes>"
            ]
          },
          "metadata": {
            "tags": [],
            "needs_background": "light"
          }
        }
      ]
    },
    {
      "cell_type": "code",
      "metadata": {
        "colab": {
          "base_uri": "https://localhost:8080/",
          "height": 357
        },
        "id": "g8GwV6WJfS6l",
        "outputId": "91b68a55-7669-4171-de7f-030901cd1d19"
      },
      "source": [
        "pd.crosstab(new_train_test['job_type'], new_train_test['education_level']).plot(kind='bar')"
      ],
      "execution_count": 73,
      "outputs": [
        {
          "output_type": "execute_result",
          "data": {
            "text/plain": [
              "<matplotlib.axes._subplots.AxesSubplot at 0x7f3e703c28d0>"
            ]
          },
          "metadata": {
            "tags": []
          },
          "execution_count": 73
        },
        {
          "output_type": "display_data",
          "data": {
            "image/png": "[encoded data removed]",
            "text/plain": [
              "<Figure size 432x288 with 1 Axes>"
            ]
          },
          "metadata": {
            "tags": [],
            "needs_background": "light"
          }
        }
      ]
    },
    {
      "cell_type": "markdown",
      "metadata": {
        "id": "8YSqaqqagVJP"
      },
      "source": [
        "Since it can be observed that people with different education_level are not restricted to any job types. Thus, education_level is not a good parameter for further prediction, however job_type still has a greater role in the final prediction."
      ]
    },
    {
      "cell_type": "code",
      "metadata": {
        "colab": {
          "base_uri": "https://localhost:8080/",
          "height": 197
        },
        "id": "kjEUXdQBgzSC",
        "outputId": "309a4dee-5ba3-4aa7-aa47-9f3d7c94b6ba"
      },
      "source": [
        "del new_train_test['education_level']\n",
        "new_train_test.head()"
      ],
      "execution_count": 74,
      "outputs": [
        {
          "output_type": "execute_result",
          "data": {
            "text/html": [
              "<div>\n",
              "<style scoped>\n",
              "    .dataframe tbody tr th:only-of-type {\n",
              "        vertical-align: middle;\n",
              "    }\n",
              "\n",
              "    .dataframe tbody tr th {\n",
              "        vertical-align: top;\n",
              "    }\n",
              "\n",
              "    .dataframe thead th {\n",
              "        text-align: right;\n",
              "    }\n",
              "</style>\n",
              "<table border=\"1\" class=\"dataframe\">\n",
              "  <thead>\n",
              "    <tr style=\"text-align: right;\">\n",
              "      <th></th>\n",
              "      <th>age</th>\n",
              "      <th>job_type</th>\n",
              "      <th>marital_status</th>\n",
              "      <th>default_or_not</th>\n",
              "      <th>balance_amt</th>\n",
              "      <th>household_insurance</th>\n",
              "      <th>car_loan</th>\n",
              "      <th>no_of_contacts</th>\n",
              "      <th>prev_attempts</th>\n",
              "      <th>source</th>\n",
              "    </tr>\n",
              "  </thead>\n",
              "  <tbody>\n",
              "    <tr>\n",
              "      <th>0</th>\n",
              "      <td>47.000000</td>\n",
              "      <td>blue-collar</td>\n",
              "      <td>married</td>\n",
              "      <td>0</td>\n",
              "      <td>1112.000000</td>\n",
              "      <td>1</td>\n",
              "      <td>0</td>\n",
              "      <td>1</td>\n",
              "      <td>0</td>\n",
              "      <td>train</td>\n",
              "    </tr>\n",
              "    <tr>\n",
              "      <th>1</th>\n",
              "      <td>46.031442</td>\n",
              "      <td>management</td>\n",
              "      <td>married</td>\n",
              "      <td>0</td>\n",
              "      <td>1.312372</td>\n",
              "      <td>0</td>\n",
              "      <td>1</td>\n",
              "      <td>3</td>\n",
              "      <td>1</td>\n",
              "      <td>train</td>\n",
              "    </tr>\n",
              "    <tr>\n",
              "      <th>2</th>\n",
              "      <td>36.000000</td>\n",
              "      <td>services</td>\n",
              "      <td>single</td>\n",
              "      <td>0</td>\n",
              "      <td>281.000000</td>\n",
              "      <td>1</td>\n",
              "      <td>0</td>\n",
              "      <td>1</td>\n",
              "      <td>0</td>\n",
              "      <td>train</td>\n",
              "    </tr>\n",
              "    <tr>\n",
              "      <th>3</th>\n",
              "      <td>32.000000</td>\n",
              "      <td>technician</td>\n",
              "      <td>single</td>\n",
              "      <td>0</td>\n",
              "      <td>540.000000</td>\n",
              "      <td>0</td>\n",
              "      <td>1</td>\n",
              "      <td>1</td>\n",
              "      <td>0</td>\n",
              "      <td>train</td>\n",
              "    </tr>\n",
              "    <tr>\n",
              "      <th>4</th>\n",
              "      <td>30.000000</td>\n",
              "      <td>admin.</td>\n",
              "      <td>single</td>\n",
              "      <td>0</td>\n",
              "      <td>315.000000</td>\n",
              "      <td>1</td>\n",
              "      <td>0</td>\n",
              "      <td>3</td>\n",
              "      <td>4</td>\n",
              "      <td>train</td>\n",
              "    </tr>\n",
              "  </tbody>\n",
              "</table>\n",
              "</div>"
            ],
            "text/plain": [
              "         age     job_type marital_status  ...  no_of_contacts  prev_attempts  source\n",
              "0  47.000000  blue-collar        married  ...               1              0   train\n",
              "1  46.031442   management        married  ...               3              1   train\n",
              "2  36.000000     services         single  ...               1              0   train\n",
              "3  32.000000   technician         single  ...               1              0   train\n",
              "4  30.000000       admin.         single  ...               3              4   train\n",
              "\n",
              "[5 rows x 10 columns]"
            ]
          },
          "metadata": {
            "tags": []
          },
          "execution_count": 74
        }
      ]
    },
    {
      "cell_type": "code",
      "metadata": {
        "colab": {
          "base_uri": "https://localhost:8080/",
          "height": 215
        },
        "id": "CkEcBaodGwZd",
        "outputId": "0aa89351-60c6-4888-986d-d875ab8059b3"
      },
      "source": [
        "# Splitting the data based on source column for train\n",
        "grouped = new_train_test.groupby(new_train_test.source)\n",
        "training_data = grouped.get_group(\"train\")\n",
        "print(training_data.shape)\n",
        "training_data.tail()"
      ],
      "execution_count": 75,
      "outputs": [
        {
          "output_type": "stream",
          "text": [
            "(3102, 10)\n"
          ],
          "name": "stdout"
        },
        {
          "output_type": "execute_result",
          "data": {
            "text/html": [
              "<div>\n",
              "<style scoped>\n",
              "    .dataframe tbody tr th:only-of-type {\n",
              "        vertical-align: middle;\n",
              "    }\n",
              "\n",
              "    .dataframe tbody tr th {\n",
              "        vertical-align: top;\n",
              "    }\n",
              "\n",
              "    .dataframe thead th {\n",
              "        text-align: right;\n",
              "    }\n",
              "</style>\n",
              "<table border=\"1\" class=\"dataframe\">\n",
              "  <thead>\n",
              "    <tr style=\"text-align: right;\">\n",
              "      <th></th>\n",
              "      <th>age</th>\n",
              "      <th>job_type</th>\n",
              "      <th>marital_status</th>\n",
              "      <th>default_or_not</th>\n",
              "      <th>balance_amt</th>\n",
              "      <th>household_insurance</th>\n",
              "      <th>car_loan</th>\n",
              "      <th>no_of_contacts</th>\n",
              "      <th>prev_attempts</th>\n",
              "      <th>source</th>\n",
              "    </tr>\n",
              "  </thead>\n",
              "  <tbody>\n",
              "    <tr>\n",
              "      <th>3097</th>\n",
              "      <td>44.0</td>\n",
              "      <td>technician</td>\n",
              "      <td>single</td>\n",
              "      <td>0</td>\n",
              "      <td>78.0</td>\n",
              "      <td>1</td>\n",
              "      <td>0</td>\n",
              "      <td>6</td>\n",
              "      <td>0</td>\n",
              "      <td>train</td>\n",
              "    </tr>\n",
              "    <tr>\n",
              "      <th>3098</th>\n",
              "      <td>57.0</td>\n",
              "      <td>admin.</td>\n",
              "      <td>married</td>\n",
              "      <td>0</td>\n",
              "      <td>4168.0</td>\n",
              "      <td>1</td>\n",
              "      <td>1</td>\n",
              "      <td>1</td>\n",
              "      <td>0</td>\n",
              "      <td>train</td>\n",
              "    </tr>\n",
              "    <tr>\n",
              "      <th>3099</th>\n",
              "      <td>51.0</td>\n",
              "      <td>entrepreneur</td>\n",
              "      <td>married</td>\n",
              "      <td>0</td>\n",
              "      <td>83.0</td>\n",
              "      <td>0</td>\n",
              "      <td>0</td>\n",
              "      <td>2</td>\n",
              "      <td>0</td>\n",
              "      <td>train</td>\n",
              "    </tr>\n",
              "    <tr>\n",
              "      <th>3100</th>\n",
              "      <td>61.0</td>\n",
              "      <td>blue-collar</td>\n",
              "      <td>married</td>\n",
              "      <td>0</td>\n",
              "      <td>5.0</td>\n",
              "      <td>0</td>\n",
              "      <td>0</td>\n",
              "      <td>2</td>\n",
              "      <td>3</td>\n",
              "      <td>train</td>\n",
              "    </tr>\n",
              "    <tr>\n",
              "      <th>3101</th>\n",
              "      <td>53.0</td>\n",
              "      <td>technician</td>\n",
              "      <td>married</td>\n",
              "      <td>0</td>\n",
              "      <td>284.0</td>\n",
              "      <td>0</td>\n",
              "      <td>0</td>\n",
              "      <td>1</td>\n",
              "      <td>0</td>\n",
              "      <td>train</td>\n",
              "    </tr>\n",
              "  </tbody>\n",
              "</table>\n",
              "</div>"
            ],
            "text/plain": [
              "       age      job_type marital_status  ...  no_of_contacts  prev_attempts  source\n",
              "3097  44.0    technician         single  ...               6              0   train\n",
              "3098  57.0        admin.        married  ...               1              0   train\n",
              "3099  51.0  entrepreneur        married  ...               2              0   train\n",
              "3100  61.0   blue-collar        married  ...               2              3   train\n",
              "3101  53.0    technician        married  ...               1              0   train\n",
              "\n",
              "[5 rows x 10 columns]"
            ]
          },
          "metadata": {
            "tags": []
          },
          "execution_count": 75
        }
      ]
    },
    {
      "cell_type": "code",
      "metadata": {
        "colab": {
          "base_uri": "https://localhost:8080/",
          "height": 215
        },
        "id": "rcp-AbRbI53W",
        "outputId": "e92613da-90d7-4375-9918-00407523fe42"
      },
      "source": [
        "# Splitting the data based on source column for test\n",
        "grouped = new_train_test.groupby(new_train_test.source)\n",
        "testing_data = grouped.get_group(\"test\")\n",
        "print(testing_data.shape)\n",
        "testing_data.tail()"
      ],
      "execution_count": 76,
      "outputs": [
        {
          "output_type": "stream",
          "text": [
            "(935, 10)\n"
          ],
          "name": "stdout"
        },
        {
          "output_type": "execute_result",
          "data": {
            "text/html": [
              "<div>\n",
              "<style scoped>\n",
              "    .dataframe tbody tr th:only-of-type {\n",
              "        vertical-align: middle;\n",
              "    }\n",
              "\n",
              "    .dataframe tbody tr th {\n",
              "        vertical-align: top;\n",
              "    }\n",
              "\n",
              "    .dataframe thead th {\n",
              "        text-align: right;\n",
              "    }\n",
              "</style>\n",
              "<table border=\"1\" class=\"dataframe\">\n",
              "  <thead>\n",
              "    <tr style=\"text-align: right;\">\n",
              "      <th></th>\n",
              "      <th>age</th>\n",
              "      <th>job_type</th>\n",
              "      <th>marital_status</th>\n",
              "      <th>default_or_not</th>\n",
              "      <th>balance_amt</th>\n",
              "      <th>household_insurance</th>\n",
              "      <th>car_loan</th>\n",
              "      <th>no_of_contacts</th>\n",
              "      <th>prev_attempts</th>\n",
              "      <th>source</th>\n",
              "    </tr>\n",
              "  </thead>\n",
              "  <tbody>\n",
              "    <tr>\n",
              "      <th>4032</th>\n",
              "      <td>31.0</td>\n",
              "      <td>blue-collar</td>\n",
              "      <td>married</td>\n",
              "      <td>0</td>\n",
              "      <td>152.0</td>\n",
              "      <td>1</td>\n",
              "      <td>1</td>\n",
              "      <td>1</td>\n",
              "      <td>0</td>\n",
              "      <td>test</td>\n",
              "    </tr>\n",
              "    <tr>\n",
              "      <th>4033</th>\n",
              "      <td>30.0</td>\n",
              "      <td>technician</td>\n",
              "      <td>single</td>\n",
              "      <td>0</td>\n",
              "      <td>53.0</td>\n",
              "      <td>1</td>\n",
              "      <td>0</td>\n",
              "      <td>5</td>\n",
              "      <td>0</td>\n",
              "      <td>test</td>\n",
              "    </tr>\n",
              "    <tr>\n",
              "      <th>4034</th>\n",
              "      <td>42.0</td>\n",
              "      <td>management</td>\n",
              "      <td>married</td>\n",
              "      <td>0</td>\n",
              "      <td>36.0</td>\n",
              "      <td>0</td>\n",
              "      <td>0</td>\n",
              "      <td>3</td>\n",
              "      <td>0</td>\n",
              "      <td>test</td>\n",
              "    </tr>\n",
              "    <tr>\n",
              "      <th>4035</th>\n",
              "      <td>46.0</td>\n",
              "      <td>services</td>\n",
              "      <td>married</td>\n",
              "      <td>0</td>\n",
              "      <td>2948.0</td>\n",
              "      <td>0</td>\n",
              "      <td>0</td>\n",
              "      <td>1</td>\n",
              "      <td>0</td>\n",
              "      <td>test</td>\n",
              "    </tr>\n",
              "    <tr>\n",
              "      <th>4036</th>\n",
              "      <td>54.0</td>\n",
              "      <td>blue-collar</td>\n",
              "      <td>married</td>\n",
              "      <td>0</td>\n",
              "      <td>548.0</td>\n",
              "      <td>0</td>\n",
              "      <td>0</td>\n",
              "      <td>7</td>\n",
              "      <td>0</td>\n",
              "      <td>test</td>\n",
              "    </tr>\n",
              "  </tbody>\n",
              "</table>\n",
              "</div>"
            ],
            "text/plain": [
              "       age     job_type marital_status  ...  no_of_contacts  prev_attempts  source\n",
              "4032  31.0  blue-collar        married  ...               1              0    test\n",
              "4033  30.0   technician         single  ...               5              0    test\n",
              "4034  42.0   management        married  ...               3              0    test\n",
              "4035  46.0     services        married  ...               1              0    test\n",
              "4036  54.0  blue-collar        married  ...               7              0    test\n",
              "\n",
              "[5 rows x 10 columns]"
            ]
          },
          "metadata": {
            "tags": []
          },
          "execution_count": 76
        }
      ]
    },
    {
      "cell_type": "code",
      "metadata": {
        "id": "kvpkMKqHJUAH"
      },
      "source": [
        "# Deleting the source column from both training and testing data frame, now irrelevant after cleaning and data pre-processing\n",
        "del training_data['source']\n",
        "del testing_data['source']"
      ],
      "execution_count": 77,
      "outputs": []
    },
    {
      "cell_type": "code",
      "metadata": {
        "colab": {
          "base_uri": "https://localhost:8080/",
          "height": 217
        },
        "id": "ZOP1xB5tMk2s",
        "outputId": "e5dfb5f1-baa6-414a-f732-ca2c534cdb1a"
      },
      "source": [
        "training_data = pd.concat([training_data, target_train], axis=1, join='inner')\n",
        "training_data.head()"
      ],
      "execution_count": 78,
      "outputs": [
        {
          "output_type": "execute_result",
          "data": {
            "text/html": [
              "<div>\n",
              "<style scoped>\n",
              "    .dataframe tbody tr th:only-of-type {\n",
              "        vertical-align: middle;\n",
              "    }\n",
              "\n",
              "    .dataframe tbody tr th {\n",
              "        vertical-align: top;\n",
              "    }\n",
              "\n",
              "    .dataframe thead th {\n",
              "        text-align: right;\n",
              "    }\n",
              "</style>\n",
              "<table border=\"1\" class=\"dataframe\">\n",
              "  <thead>\n",
              "    <tr style=\"text-align: right;\">\n",
              "      <th></th>\n",
              "      <th>age</th>\n",
              "      <th>job_type</th>\n",
              "      <th>marital_status</th>\n",
              "      <th>default_or_not</th>\n",
              "      <th>balance_amt</th>\n",
              "      <th>household_insurance</th>\n",
              "      <th>car_loan</th>\n",
              "      <th>no_of_contacts</th>\n",
              "      <th>prev_attempts</th>\n",
              "      <th>car_insurance</th>\n",
              "    </tr>\n",
              "  </thead>\n",
              "  <tbody>\n",
              "    <tr>\n",
              "      <th>0</th>\n",
              "      <td>47.000000</td>\n",
              "      <td>blue-collar</td>\n",
              "      <td>married</td>\n",
              "      <td>0</td>\n",
              "      <td>1112.000000</td>\n",
              "      <td>1</td>\n",
              "      <td>0</td>\n",
              "      <td>1</td>\n",
              "      <td>0</td>\n",
              "      <td>0</td>\n",
              "    </tr>\n",
              "    <tr>\n",
              "      <th>1</th>\n",
              "      <td>46.031442</td>\n",
              "      <td>management</td>\n",
              "      <td>married</td>\n",
              "      <td>0</td>\n",
              "      <td>1.312372</td>\n",
              "      <td>0</td>\n",
              "      <td>1</td>\n",
              "      <td>3</td>\n",
              "      <td>1</td>\n",
              "      <td>1</td>\n",
              "    </tr>\n",
              "    <tr>\n",
              "      <th>2</th>\n",
              "      <td>36.000000</td>\n",
              "      <td>services</td>\n",
              "      <td>single</td>\n",
              "      <td>0</td>\n",
              "      <td>281.000000</td>\n",
              "      <td>1</td>\n",
              "      <td>0</td>\n",
              "      <td>1</td>\n",
              "      <td>0</td>\n",
              "      <td>1</td>\n",
              "    </tr>\n",
              "    <tr>\n",
              "      <th>3</th>\n",
              "      <td>32.000000</td>\n",
              "      <td>technician</td>\n",
              "      <td>single</td>\n",
              "      <td>0</td>\n",
              "      <td>540.000000</td>\n",
              "      <td>0</td>\n",
              "      <td>1</td>\n",
              "      <td>1</td>\n",
              "      <td>0</td>\n",
              "      <td>1</td>\n",
              "    </tr>\n",
              "    <tr>\n",
              "      <th>4</th>\n",
              "      <td>30.000000</td>\n",
              "      <td>admin.</td>\n",
              "      <td>single</td>\n",
              "      <td>0</td>\n",
              "      <td>315.000000</td>\n",
              "      <td>1</td>\n",
              "      <td>0</td>\n",
              "      <td>3</td>\n",
              "      <td>4</td>\n",
              "      <td>1</td>\n",
              "    </tr>\n",
              "  </tbody>\n",
              "</table>\n",
              "</div>"
            ],
            "text/plain": [
              "         age     job_type  ... prev_attempts  car_insurance\n",
              "0  47.000000  blue-collar  ...             0              0\n",
              "1  46.031442   management  ...             1              1\n",
              "2  36.000000     services  ...             0              1\n",
              "3  32.000000   technician  ...             0              1\n",
              "4  30.000000       admin.  ...             4              1\n",
              "\n",
              "[5 rows x 10 columns]"
            ]
          },
          "metadata": {
            "tags": []
          },
          "execution_count": 78
        }
      ]
    },
    {
      "cell_type": "code",
      "metadata": {
        "colab": {
          "base_uri": "https://localhost:8080/",
          "height": 340
        },
        "id": "kKlI6SEsH_vm",
        "outputId": "7015fa4f-c185-452e-a907-214b7cc3e73a"
      },
      "source": [
        "pd.crosstab(training_data['job_type'], training_data['car_insurance']).plot(kind='bar')\n",
        "plt.show()"
      ],
      "execution_count": 79,
      "outputs": [
        {
          "output_type": "display_data",
          "data": {
            "image/png": "[encoded data removed]",
            "text/plain": [
              "<Figure size 432x288 with 1 Axes>"
            ]
          },
          "metadata": {
            "tags": [],
            "needs_background": "light"
          }
        }
      ]
    },
    {
      "cell_type": "code",
      "metadata": {
        "colab": {
          "base_uri": "https://localhost:8080/",
          "height": 313
        },
        "id": "3MkBUp3nBCK3",
        "outputId": "3b9dda50-287a-451d-e399-16d229ddd54b"
      },
      "source": [
        "pd.crosstab(training_data['marital_status'], training_data['car_insurance']).plot(kind='bar')\n",
        "plt.show()"
      ],
      "execution_count": 80,
      "outputs": [
        {
          "output_type": "display_data",
          "data": {
            "image/png": "[encoded data removed]",
            "text/plain": [
              "<Figure size 432x288 with 1 Axes>"
            ]
          },
          "metadata": {
            "tags": [],
            "needs_background": "light"
          }
        }
      ]
    },
    {
      "cell_type": "markdown",
      "metadata": {
        "id": "2GAaary0IMyb"
      },
      "source": [
        "Amongst the categorical variable, marital_status is one of the independent variable.\n",
        "\n"
      ]
    },
    {
      "cell_type": "code",
      "metadata": {
        "colab": {
          "base_uri": "https://localhost:8080/",
          "height": 691
        },
        "id": "peefoVD-NfA7",
        "outputId": "a37f39b5-23f7-48a1-9d9f-6501872913f4"
      },
      "source": [
        "plt.figure(figsize=(12,10))\n",
        "sns.heatmap(training_data.corr(),annot=True)\n",
        "plt.show()"
      ],
      "execution_count": 81,
      "outputs": [
        {
          "output_type": "display_data",
          "data": {
            "image/png": "[encoded data removed]",
            "text/plain": [
              "<Figure size 864x720 with 2 Axes>"
            ]
          },
          "metadata": {
            "tags": [],
            "needs_background": "light"
          }
        }
      ]
    },
    {
      "cell_type": "markdown",
      "metadata": {
        "id": "G2XEmSDvHfQM"
      },
      "source": [
        "It can be observed that there is a high negative correlation amongst variables, hence the independent variable are:\n",
        "\n",
        "\n",
        "*   default_or_not\n",
        "*   household_insurance\n",
        "*   car_loan\n",
        "*   no_of_contact\n",
        "\n",
        "\n",
        "\n",
        "\n"
      ]
    },
    {
      "cell_type": "code",
      "metadata": {
        "id": "RRB7G2V3JOwM"
      },
      "source": [
        "# Omit dependent columns\n",
        "X = training_data[['marital_status','default_or_not','household_insurance','car_loan','no_of_contacts']]\n",
        "test_X = testing_data[['marital_status','default_or_not','household_insurance','car_loan','no_of_contacts']]\n",
        "y = training_data['car_insurance']"
      ],
      "execution_count": 82,
      "outputs": []
    },
    {
      "cell_type": "markdown",
      "metadata": {
        "id": "5GW9aj2hFmPC"
      },
      "source": [
        "One Hot Encoding"
      ]
    },
    {
      "cell_type": "code",
      "metadata": {
        "colab": {
          "base_uri": "https://localhost:8080/",
          "height": 215
        },
        "id": "t-eWvoXDEtzj",
        "outputId": "ba104b75-5772-4e28-facb-892e0af023a7"
      },
      "source": [
        "categorical_column = ['marital_status']\n",
        "X = pd.get_dummies(X, columns=categorical_column) \n",
        "test_X = pd.get_dummies(test_X, columns=categorical_column) \n",
        "print(X.shape)\n",
        "X.tail()"
      ],
      "execution_count": 83,
      "outputs": [
        {
          "output_type": "stream",
          "text": [
            "(3102, 7)\n"
          ],
          "name": "stdout"
        },
        {
          "output_type": "execute_result",
          "data": {
            "text/html": [
              "<div>\n",
              "<style scoped>\n",
              "    .dataframe tbody tr th:only-of-type {\n",
              "        vertical-align: middle;\n",
              "    }\n",
              "\n",
              "    .dataframe tbody tr th {\n",
              "        vertical-align: top;\n",
              "    }\n",
              "\n",
              "    .dataframe thead th {\n",
              "        text-align: right;\n",
              "    }\n",
              "</style>\n",
              "<table border=\"1\" class=\"dataframe\">\n",
              "  <thead>\n",
              "    <tr style=\"text-align: right;\">\n",
              "      <th></th>\n",
              "      <th>default_or_not</th>\n",
              "      <th>household_insurance</th>\n",
              "      <th>car_loan</th>\n",
              "      <th>no_of_contacts</th>\n",
              "      <th>marital_status_divorced</th>\n",
              "      <th>marital_status_married</th>\n",
              "      <th>marital_status_single</th>\n",
              "    </tr>\n",
              "  </thead>\n",
              "  <tbody>\n",
              "    <tr>\n",
              "      <th>3097</th>\n",
              "      <td>0</td>\n",
              "      <td>1</td>\n",
              "      <td>0</td>\n",
              "      <td>6</td>\n",
              "      <td>0</td>\n",
              "      <td>0</td>\n",
              "      <td>1</td>\n",
              "    </tr>\n",
              "    <tr>\n",
              "      <th>3098</th>\n",
              "      <td>0</td>\n",
              "      <td>1</td>\n",
              "      <td>1</td>\n",
              "      <td>1</td>\n",
              "      <td>0</td>\n",
              "      <td>1</td>\n",
              "      <td>0</td>\n",
              "    </tr>\n",
              "    <tr>\n",
              "      <th>3099</th>\n",
              "      <td>0</td>\n",
              "      <td>0</td>\n",
              "      <td>0</td>\n",
              "      <td>2</td>\n",
              "      <td>0</td>\n",
              "      <td>1</td>\n",
              "      <td>0</td>\n",
              "    </tr>\n",
              "    <tr>\n",
              "      <th>3100</th>\n",
              "      <td>0</td>\n",
              "      <td>0</td>\n",
              "      <td>0</td>\n",
              "      <td>2</td>\n",
              "      <td>0</td>\n",
              "      <td>1</td>\n",
              "      <td>0</td>\n",
              "    </tr>\n",
              "    <tr>\n",
              "      <th>3101</th>\n",
              "      <td>0</td>\n",
              "      <td>0</td>\n",
              "      <td>0</td>\n",
              "      <td>1</td>\n",
              "      <td>0</td>\n",
              "      <td>1</td>\n",
              "      <td>0</td>\n",
              "    </tr>\n",
              "  </tbody>\n",
              "</table>\n",
              "</div>"
            ],
            "text/plain": [
              "      default_or_not  ...  marital_status_single\n",
              "3097               0  ...                      1\n",
              "3098               0  ...                      0\n",
              "3099               0  ...                      0\n",
              "3100               0  ...                      0\n",
              "3101               0  ...                      0\n",
              "\n",
              "[5 rows x 7 columns]"
            ]
          },
          "metadata": {
            "tags": []
          },
          "execution_count": 83
        }
      ]
    },
    {
      "cell_type": "markdown",
      "metadata": {
        "id": "XbQhnsoTjwYm"
      },
      "source": [
        "# Build Machine Learning Model & Evaluate it"
      ]
    },
    {
      "cell_type": "code",
      "metadata": {
        "id": "570jPYroK5pQ"
      },
      "source": [
        "# Applying Logistic Regression\n",
        "from sklearn.model_selection import train_test_split\n",
        "X_train, X_test, Y_train, Y_test = train_test_split(X,y,test_size=0.3,random_state=50)\n",
        "from sklearn.linear_model import LogisticRegression\n",
        "logreg = LogisticRegression()"
      ],
      "execution_count": 84,
      "outputs": []
    },
    {
      "cell_type": "code",
      "metadata": {
        "colab": {
          "base_uri": "https://localhost:8080/"
        },
        "id": "fFNd8XmzLlgb",
        "outputId": "c0920ff5-e635-4a70-bf07-7a9936f4f459"
      },
      "source": [
        "logreg.fit(X_train,Y_train)"
      ],
      "execution_count": 85,
      "outputs": [
        {
          "output_type": "execute_result",
          "data": {
            "text/plain": [
              "LogisticRegression(C=1.0, class_weight=None, dual=False, fit_intercept=True,\n",
              "                   intercept_scaling=1, l1_ratio=None, max_iter=100,\n",
              "                   multi_class='auto', n_jobs=None, penalty='l2',\n",
              "                   random_state=None, solver='lbfgs', tol=0.0001, verbose=0,\n",
              "                   warm_start=False)"
            ]
          },
          "metadata": {
            "tags": []
          },
          "execution_count": 85
        }
      ]
    },
    {
      "cell_type": "code",
      "metadata": {
        "colab": {
          "base_uri": "https://localhost:8080/"
        },
        "id": "Qhhu0ca6Lo1o",
        "outputId": "dc2dc4a1-f898-4957-a391-b2e58b7e32f2"
      },
      "source": [
        "prediction = logreg.predict(X_test)\n",
        "prediction"
      ],
      "execution_count": 86,
      "outputs": [
        {
          "output_type": "execute_result",
          "data": {
            "text/plain": [
              "array([1, 1, 1, 1, 1, 1, 0, 0, 0, 1, 1, 1, 0, 0, 1, 1, 1, 1, 1, 1, 1, 1,\n",
              "       1, 1, 1, 1, 1, 1, 0, 1, 1, 1, 0, 1, 1, 1, 1, 1, 1, 1, 1, 0, 0, 1,\n",
              "       1, 0, 1, 0, 0, 1, 1, 1, 0, 1, 0, 1, 1, 0, 1, 1, 1, 1, 1, 0, 0, 1,\n",
              "       1, 1, 1, 1, 1, 0, 1, 1, 1, 1, 1, 1, 0, 0, 0, 1, 1, 0, 1, 1, 0, 1,\n",
              "       0, 0, 0, 0, 0, 1, 0, 1, 1, 0, 0, 0, 1, 0, 1, 0, 1, 1, 0, 1, 1, 1,\n",
              "       0, 1, 0, 1, 1, 0, 1, 1, 0, 1, 0, 0, 1, 1, 0, 1, 1, 1, 1, 1, 1, 0,\n",
              "       1, 1, 1, 1, 0, 1, 1, 1, 1, 1, 1, 1, 1, 1, 0, 1, 0, 0, 0, 0, 1, 1,\n",
              "       1, 1, 1, 1, 1, 1, 1, 0, 1, 0, 1, 0, 1, 0, 0, 1, 1, 1, 0, 1, 0, 1,\n",
              "       1, 1, 1, 0, 0, 1, 0, 1, 0, 1, 0, 0, 1, 0, 1, 0, 1, 1, 0, 0, 1, 1,\n",
              "       1, 1, 1, 1, 1, 1, 0, 0, 1, 1, 1, 1, 1, 1, 1, 0, 1, 1, 1, 1, 1, 1,\n",
              "       1, 0, 1, 1, 1, 1, 0, 1, 1, 1, 1, 1, 0, 1, 1, 0, 1, 1, 0, 1, 1, 1,\n",
              "       0, 1, 0, 0, 1, 1, 1, 1, 0, 1, 1, 0, 1, 1, 1, 0, 1, 0, 1, 0, 0, 1,\n",
              "       1, 1, 0, 0, 1, 1, 0, 0, 0, 1, 1, 1, 0, 0, 1, 1, 1, 1, 1, 1, 0, 1,\n",
              "       1, 1, 0, 1, 1, 1, 1, 0, 0, 0, 1, 1, 1, 1, 1, 0, 1, 0, 1, 1, 1, 1,\n",
              "       1, 1, 1, 1, 1, 1, 0, 1, 1, 0, 1, 0, 1, 1, 1, 1, 1, 1, 0, 1, 1, 0,\n",
              "       1, 1, 1, 1, 1, 0, 1, 1, 1, 0, 0, 1, 1, 1, 0, 1, 1, 1, 1, 0, 1, 1,\n",
              "       0, 0, 1, 1, 1, 0, 1, 1, 1, 0, 0, 0, 0, 1, 1, 1, 1, 1, 0, 0, 0, 1,\n",
              "       0, 1, 1, 0, 1, 1, 0, 1, 0, 1, 0, 0, 1, 0, 1, 1, 1, 1, 1, 1, 1, 1,\n",
              "       0, 1, 0, 1, 1, 0, 1, 1, 1, 1, 1, 1, 0, 1, 0, 1, 1, 1, 1, 1, 0, 0,\n",
              "       1, 1, 1, 1, 0, 1, 1, 1, 1, 0, 0, 1, 1, 1, 1, 0, 0, 0, 0, 0, 0, 1,\n",
              "       1, 1, 1, 0, 1, 0, 1, 0, 1, 0, 1, 1, 1, 1, 1, 1, 1, 0, 1, 1, 1, 1,\n",
              "       1, 1, 1, 1, 0, 1, 1, 1, 0, 1, 1, 1, 1, 0, 0, 1, 1, 1, 1, 0, 1, 1,\n",
              "       1, 1, 0, 1, 0, 1, 1, 1, 1, 1, 0, 1, 0, 0, 1, 0, 1, 1, 1, 1, 1, 1,\n",
              "       1, 1, 1, 1, 1, 1, 1, 0, 0, 1, 1, 1, 0, 1, 0, 0, 1, 1, 1, 0, 1, 1,\n",
              "       1, 0, 1, 0, 0, 1, 1, 0, 0, 1, 0, 0, 1, 1, 1, 1, 0, 1, 1, 1, 1, 1,\n",
              "       0, 0, 0, 1, 0, 0, 1, 1, 1, 1, 0, 1, 0, 1, 0, 1, 1, 1, 1, 1, 0, 0,\n",
              "       1, 1, 1, 0, 1, 1, 0, 1, 0, 1, 0, 1, 1, 1, 1, 1, 1, 1, 1, 1, 1, 1,\n",
              "       0, 0, 1, 1, 0, 0, 1, 1, 1, 1, 1, 1, 0, 1, 0, 1, 1, 0, 1, 1, 1, 0,\n",
              "       1, 1, 1, 1, 1, 1, 1, 1, 1, 0, 0, 1, 1, 1, 1, 0, 0, 1, 0, 1, 1, 1,\n",
              "       1, 0, 1, 1, 0, 1, 1, 1, 0, 0, 0, 0, 1, 0, 1, 1, 1, 1, 1, 1, 0, 1,\n",
              "       1, 1, 0, 1, 1, 1, 1, 1, 0, 1, 1, 0, 1, 1, 1, 1, 0, 1, 0, 0, 1, 1,\n",
              "       0, 1, 1, 1, 1, 1, 0, 1, 0, 1, 0, 1, 1, 1, 1, 1, 1, 1, 1, 1, 1, 1,\n",
              "       1, 0, 1, 1, 0, 0, 0, 1, 0, 0, 1, 1, 1, 1, 0, 1, 0, 1, 0, 1, 1, 0,\n",
              "       0, 1, 0, 1, 1, 1, 1, 1, 1, 1, 0, 1, 0, 1, 1, 1, 0, 1, 1, 0, 0, 1,\n",
              "       1, 1, 0, 0, 1, 1, 0, 1, 0, 1, 1, 1, 1, 1, 1, 1, 0, 1, 0, 1, 1, 0,\n",
              "       1, 1, 1, 1, 0, 1, 1, 0, 1, 1, 0, 1, 0, 0, 1, 0, 0, 1, 0, 1, 1, 1,\n",
              "       1, 0, 0, 1, 0, 1, 0, 1, 0, 0, 0, 0, 1, 1, 0, 0, 1, 0, 1, 1, 1, 0,\n",
              "       1, 1, 0, 1, 1, 1, 1, 1, 1, 0, 1, 1, 0, 1, 1, 1, 1, 1, 1, 0, 1, 1,\n",
              "       0, 1, 1, 1, 1, 1, 1, 0, 1, 1, 0, 1, 0, 1, 1, 1, 1, 1, 1, 0, 1, 0,\n",
              "       0, 0, 0, 0, 1, 1, 0, 1, 1, 0, 1, 1, 1, 1, 1, 1, 1, 1, 1, 1, 1, 1,\n",
              "       1, 1, 1, 1, 1, 1, 1, 1, 1, 0, 1, 1, 1, 1, 1, 0, 1, 1, 1, 1, 0, 1,\n",
              "       0, 0, 1, 1, 1, 1, 0, 1, 0, 1, 1, 1, 1, 1, 1, 1, 1, 0, 1, 1, 0, 0,\n",
              "       1, 0, 0, 1, 1, 1, 1])"
            ]
          },
          "metadata": {
            "tags": []
          },
          "execution_count": 86
        }
      ]
    },
    {
      "cell_type": "code",
      "metadata": {
        "colab": {
          "base_uri": "https://localhost:8080/"
        },
        "id": "Oa-Kx1IELyb_",
        "outputId": "44e3563e-dd3f-440d-dcfc-e4119b2d8b63"
      },
      "source": [
        "from sklearn.metrics import accuracy_score\n",
        "accuracy_score(Y_test,prediction)\n"
      ],
      "execution_count": 87,
      "outputs": [
        {
          "output_type": "execute_result",
          "data": {
            "text/plain": [
              "0.6079484425349087"
            ]
          },
          "metadata": {
            "tags": []
          },
          "execution_count": 87
        }
      ]
    },
    {
      "cell_type": "code",
      "metadata": {
        "colab": {
          "base_uri": "https://localhost:8080/"
        },
        "id": "VhlneBxVMV9F",
        "outputId": "3efd915d-b92e-4266-f059-d1c779b2f289"
      },
      "source": [
        "# Trying for different models - applying decision tree classifier\n",
        "from sklearn.tree import DecisionTreeClassifier\n",
        "model = DecisionTreeClassifier(max_depth = 3)\n",
        "model.fit(X_train, Y_train)\n"
      ],
      "execution_count": 88,
      "outputs": [
        {
          "output_type": "execute_result",
          "data": {
            "text/plain": [
              "DecisionTreeClassifier(ccp_alpha=0.0, class_weight=None, criterion='gini',\n",
              "                       max_depth=3, max_features=None, max_leaf_nodes=None,\n",
              "                       min_impurity_decrease=0.0, min_impurity_split=None,\n",
              "                       min_samples_leaf=1, min_samples_split=2,\n",
              "                       min_weight_fraction_leaf=0.0, presort='deprecated',\n",
              "                       random_state=None, splitter='best')"
            ]
          },
          "metadata": {
            "tags": []
          },
          "execution_count": 88
        }
      ]
    },
    {
      "cell_type": "code",
      "metadata": {
        "colab": {
          "base_uri": "https://localhost:8080/"
        },
        "id": "G5U185DHMmmv",
        "outputId": "7f9b1b75-70b2-4364-a79d-6931402e2120"
      },
      "source": [
        "prediction = model.predict(X_test)\n",
        "accuracy_score(Y_test,prediction)"
      ],
      "execution_count": 89,
      "outputs": [
        {
          "output_type": "execute_result",
          "data": {
            "text/plain": [
              "0.5961331901181526"
            ]
          },
          "metadata": {
            "tags": []
          },
          "execution_count": 89
        }
      ]
    },
    {
      "cell_type": "markdown",
      "metadata": {
        "id": "Eib5FMuAj_8C"
      },
      "source": [
        "# Prediction for Test Dataset & Saving Prediction File"
      ]
    },
    {
      "cell_type": "markdown",
      "metadata": {
        "id": "xQVPK8X4iMOg"
      },
      "source": [
        "Since accuracy of logistic regression is higher than decision tree classifier we chose to predict using logistic regression model."
      ]
    },
    {
      "cell_type": "code",
      "metadata": {
        "id": "VBdFA6T5X7KB"
      },
      "source": [
        "finalprediction = logreg.predict(test_X)\n",
        "res = pd.DataFrame(finalprediction)\n",
        "res.columns = [\"prediction\"]\n",
        "\n",
        "# To download the csv file locally\n",
        "from google.colab import files\n",
        "res.to_csv('prediction_results.csv')\n",
        "files.download('prediction_results.csv')"
      ],
      "execution_count": 90,
      "outputs": []
    }
  ]
}